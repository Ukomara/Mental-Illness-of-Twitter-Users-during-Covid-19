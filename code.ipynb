{
 "cells": [
  {
   "cell_type": "code",
   "execution_count": 4,
   "metadata": {
    "colab": {
     "base_uri": "https://localhost:8080/"
    },
    "id": "C-D_FyFuCGBc",
    "outputId": "1bbbd60f-6b97-4100-ee80-e4f218148de2"
   },
   "outputs": [
    {
     "name": "stdout",
     "output_type": "stream",
     "text": [
      "Collecting snscrape\n",
      "  Downloading snscrape-0.3.4-py3-none-any.whl (35 kB)\n",
      "Requirement already satisfied: requests[socks] in /usr/local/lib/python3.7/dist-packages (from snscrape) (2.23.0)\n",
      "Requirement already satisfied: lxml in /usr/local/lib/python3.7/dist-packages (from snscrape) (4.2.6)\n",
      "Requirement already satisfied: beautifulsoup4 in /usr/local/lib/python3.7/dist-packages (from snscrape) (4.6.3)\n",
      "Requirement already satisfied: idna<3,>=2.5 in /usr/local/lib/python3.7/dist-packages (from requests[socks]->snscrape) (2.10)\n",
      "Requirement already satisfied: chardet<4,>=3.0.2 in /usr/local/lib/python3.7/dist-packages (from requests[socks]->snscrape) (3.0.4)\n",
      "Requirement already satisfied: urllib3!=1.25.0,!=1.25.1,<1.26,>=1.21.1 in /usr/local/lib/python3.7/dist-packages (from requests[socks]->snscrape) (1.24.3)\n",
      "Requirement already satisfied: certifi>=2017.4.17 in /usr/local/lib/python3.7/dist-packages (from requests[socks]->snscrape) (2021.10.8)\n",
      "Requirement already satisfied: PySocks!=1.5.7,>=1.5.6 in /usr/local/lib/python3.7/dist-packages (from requests[socks]->snscrape) (1.7.1)\n",
      "Installing collected packages: snscrape\n",
      "Successfully installed snscrape-0.3.4\n",
      "Collecting pycountry\n",
      "  Downloading pycountry-22.3.5.tar.gz (10.1 MB)\n",
      "\u001b[K     |████████████████████████████████| 10.1 MB 6.1 MB/s \n",
      "\u001b[?25h  Installing build dependencies ... \u001b[?25l\u001b[?25hdone\n",
      "  Getting requirements to build wheel ... \u001b[?25l\u001b[?25hdone\n",
      "    Preparing wheel metadata ... \u001b[?25l\u001b[?25hdone\n",
      "Requirement already satisfied: setuptools in /usr/local/lib/python3.7/dist-packages (from pycountry) (57.4.0)\n",
      "Building wheels for collected packages: pycountry\n",
      "  Building wheel for pycountry (PEP 517) ... \u001b[?25l\u001b[?25hdone\n",
      "  Created wheel for pycountry: filename=pycountry-22.3.5-py2.py3-none-any.whl size=10681845 sha256=be80fdcd3f8ef77de1e1b9e3ca3aa10cc1a24ca3bd172364f4dec9960a7e55c7\n",
      "  Stored in directory: /root/.cache/pip/wheels/0e/06/e8/7ee176e95ea9a8a8c3b3afcb1869f20adbd42413d4611c6eb4\n",
      "Successfully built pycountry\n",
      "Installing collected packages: pycountry\n",
      "Successfully installed pycountry-22.3.5\n",
      "Collecting langdetect\n",
      "  Downloading langdetect-1.0.9.tar.gz (981 kB)\n",
      "\u001b[K     |████████████████████████████████| 981 kB 7.6 MB/s \n",
      "\u001b[?25hRequirement already satisfied: six in /usr/local/lib/python3.7/dist-packages (from langdetect) (1.15.0)\n",
      "Building wheels for collected packages: langdetect\n",
      "  Building wheel for langdetect (setup.py) ... \u001b[?25l\u001b[?25hdone\n",
      "  Created wheel for langdetect: filename=langdetect-1.0.9-py3-none-any.whl size=993242 sha256=1c9238aed82b354f702fcb2986de6db1489ab7056fb8830cbb93f41ed2a2828c\n",
      "  Stored in directory: /root/.cache/pip/wheels/c5/96/8a/f90c59ed25d75e50a8c10a1b1c2d4c402e4dacfa87f3aff36a\n",
      "Successfully built langdetect\n",
      "Installing collected packages: langdetect\n",
      "Successfully installed langdetect-1.0.9\n"
     ]
    },
    {
     "name": "stderr",
     "output_type": "stream",
     "text": [
      "/usr/local/lib/python3.7/dist-packages/nltk/twitter/__init__.py:20: UserWarning: The twython library has not been installed. Some functionality from the twitter package will not be available.\n",
      "  warnings.warn(\"The twython library has not been installed. \"\n"
     ]
    }
   ],
   "source": [
    "!pip install snscrape\n",
    "!pip install pycountry\n",
    "!pip install langdetect \n",
    "import pandas as pd\n",
    "import snscrape.modules.twitter as sntwitter\n",
    "import itertools\n",
    "from textblob import TextBlob\n",
    "import sys\n",
    "import tweepy\n",
    "import matplotlib.pyplot as plt\n",
    "import pandas as pd\n",
    "import numpy as np\n",
    "import os\n",
    "import nltk\n",
    "import pycountry\n",
    "import re\n",
    "import string\n",
    "import csv\n",
    "from wordcloud import WordCloud, STOPWORDS\n",
    "from PIL import Image\n",
    "from nltk.sentiment.vader import SentimentIntensityAnalyzer\n",
    "from langdetect import detect\n",
    "from nltk.stem import SnowballStemmer\n",
    "from nltk.sentiment.vader import SentimentIntensityAnalyzer\n",
    "from sklearn.feature_extraction.text import CountVectorizer\n",
    "#https://www.machinelearningplus.com/nlp/topic-modeling-gensim-python/#1introduction\n",
    "\n"
   ]
  },
  {
   "cell_type": "code",
   "execution_count": null,
   "metadata": {
    "id": "7IyDUHfDBZRU"
   },
   "outputs": [],
   "source": [
    "def scrape(words, date_since, numtweet):\n",
    "        # Creating DataFrame using pandas\n",
    "    db = pd.DataFrame(columns=[\n",
    "                                   'description',\n",
    "                                   'location',\n",
    "                                   'retweetcount',\n",
    "                                   'text',\n",
    "                                    'date',\n",
    "                                   'hashtags'])\n",
    " \n",
    "        # We are using .Cursor() to search\n",
    "        # through twitter for the required tweets.\n",
    "        # The number of tweets can be\n",
    "        # restricted using .items(number of tweets)\n",
    "    tweets = tweepy.Cursor(api.search_tweets,\n",
    "                               words, lang=\"en\",\n",
    "                               since_id=date_since,\n",
    "                            #until=date_until,\n",
    "                               tweet_mode='extended').items(numtweet)\n",
    " \n",
    " \n",
    "        # .Cursor() returns an iterable object. Each item in\n",
    "        # the iterator has various attributes\n",
    "        # that you can access to\n",
    "        # get information about each tweet\n",
    "    list_tweets = [tweet for tweet in tweets]\n",
    " \n",
    "        # Counter to maintain Tweet Count\n",
    "    i = 1\n",
    " \n",
    "        # we will iterate over each tweet in the\n",
    "        # list for extracting information about each tweet\n",
    "    for tweet in list_tweets[::-1]:\n",
    "        description = tweet.user.description\n",
    "        location = tweet.user.location\n",
    "        retweetcount = tweet.retweet_count\n",
    "        date=tweet.created_at\n",
    "        hashtags = tweet.entities['hashtags']\n",
    " \n",
    "                # Retweets can be distinguished by\n",
    "                # a retweeted_status attribute,\n",
    "                # in case it is an invalid reference,\n",
    "                # except block will be executed\n",
    "        try:\n",
    "            text = tweet.retweeted_status.full_text\n",
    "        except AttributeError:\n",
    "            text = tweet.full_text\n",
    "        hashtext = list()\n",
    "        for j in range(0, len(hashtags)):\n",
    "            hashtext.append(hashtags[j]['text'])\n",
    " \n",
    "                # Here we are appending all the\n",
    "                # extracted information in the DataFrame\n",
    "        ith_tweet = [description,location,retweetcount, text,date, hashtext]\n",
    "        db.loc[len(db)] = ith_tweet\n",
    " \n",
    "                # Function call to print tweet data on screen\n",
    "        \n",
    "        # printtweetdata(i, ith_tweet)\n",
    "        i = i+1\n",
    "    filename = 'ptsd.csv'\n",
    "        \n",
    "    \n",
    "    df=pd.DataFrame(db)\n",
    "    \n",
    "    #df=df.loc[(df['date'] < '2021-07-01')]\n",
    "    \n",
    "    \n",
    "    csv=df.to_csv(filename)\n",
    "        \n",
    "    \n",
    "        # we will save our database as a CSV file.\n",
    " \n",
    "\n",
    "\n",
    "        # Enter your own credentials obtained\n",
    "        # from your developer account\n",
    "consumerKey = 'XI6QiXqHXjtvW0iIy7xTO2eYK'\n",
    "consumerSecret = 'rAoUFudHY9YhNZRwG4yVR8TxBKpe2zqsTIpShGxNW1xvktALEh'\n",
    "accessToken = '1482549115242389506-dsTM3FwcaAPqwupZ8e9MiAuxh41zQJ'\n",
    "accessTokenSecret = 'SKoqrjICuRgv4bMpcXXJr5faXUGcndhLGxmHotvwT3CEC'\n",
    "auth = tweepy.OAuthHandler(consumerKey, consumerSecret)\n",
    "auth.set_access_token(accessToken, accessTokenSecret)\n",
    "api = tweepy.API(auth)\n",
    " \n",
    "        # Enter Hashtag and initial date\n",
    "#    print(\"Enter Twitter HashTag to search for\")\n",
    "#    words = input()\n",
    "words = 'PTSD'\n",
    "    \n",
    "since_date=pd.to_datetime('2020-01-01')\n",
    "# number of tweets you want to extract in one run\n",
    "numtweet = 500\n",
    "scrape(words, since_date, numtweet)\n",
    "\n",
    "print('Scraping has completed!')"
   ]
  },
  {
   "cell_type": "code",
   "execution_count": null,
   "metadata": {
    "id": "KZiOOMTIBbK8"
   },
   "outputs": [],
   "source": [
    "def scrape(words, date_since, numtweet):\n",
    "        # Creating DataFrame using pandas\n",
    "    db = pd.DataFrame(columns=[\n",
    "                                   'description',\n",
    "                                   'location',\n",
    "                                   'retweetcount',\n",
    "                                   'text',\n",
    "                                    'date',\n",
    "                                   'hashtags'])\n",
    " \n",
    "        # We are using .Cursor() to search\n",
    "        # through twitter for the required tweets.\n",
    "        # The number of tweets can be\n",
    "        # restricted using .items(number of tweets)\n",
    "    tweets = tweepy.Cursor(api.search_tweets,\n",
    "                               words, lang=\"en\",\n",
    "                               since_id=date_since,\n",
    "                            #until=date_until,\n",
    "                               tweet_mode='extended').items(numtweet)\n",
    " \n",
    " \n",
    "        # .Cursor() returns an iterable object. Each item in\n",
    "        # the iterator has various attributes\n",
    "        # that you can access to\n",
    "        # get information about each tweet\n",
    "    list_tweets = [tweet for tweet in tweets]\n",
    " \n",
    "        # Counter to maintain Tweet Count\n",
    "    i = 1\n",
    " \n",
    "        # we will iterate over each tweet in the\n",
    "        # list for extracting information about each tweet\n",
    "    for tweet in list_tweets[::-1]:\n",
    "        description = tweet.user.description\n",
    "        location = tweet.user.location\n",
    "        retweetcount = tweet.retweet_count\n",
    "        date=tweet.created_at\n",
    "        hashtags = tweet.entities['hashtags']\n",
    " \n",
    "                # Retweets can be distinguished by\n",
    "                # a retweeted_status attribute,\n",
    "                # in case it is an invalid reference,\n",
    "                # except block will be executed\n",
    "        try:\n",
    "            text = tweet.retweeted_status.full_text\n",
    "        except AttributeError:\n",
    "            text = tweet.full_text\n",
    "        hashtext = list()\n",
    "        for j in range(0, len(hashtags)):\n",
    "            hashtext.append(hashtags[j]['text'])\n",
    " \n",
    "                # Here we are appending all the\n",
    "                # extracted information in the DataFrame\n",
    "        ith_tweet = [description,location,retweetcount, text,date, hashtext]\n",
    "        db.loc[len(db)] = ith_tweet\n",
    " \n",
    "                # Function call to print tweet data on screen\n",
    "        \n",
    "        # printtweetdata(i, ith_tweet)\n",
    "        i = i+1\n",
    "    filename = 'Depression.csv'\n",
    "        \n",
    "    \n",
    "    df=pd.DataFrame(db)\n",
    "    \n",
    "    #df=df.loc[(df['date'] < '2021-07-01')]\n",
    "    \n",
    "    \n",
    "    csv=df.to_csv(filename)\n",
    "        \n",
    "    \n",
    "        # we will save our database as a CSV file.\n",
    " \n",
    "\n",
    "\n",
    "        # Enter your own credentials obtained\n",
    "        # from your developer account\n",
    "consumerKey = 'XI6QiXqHXjtvW0iIy7xTO2eYK'\n",
    "consumerSecret = 'rAoUFudHY9YhNZRwG4yVR8TxBKpe2zqsTIpShGxNW1xvktALEh'\n",
    "accessToken = '1482549115242389506-dsTM3FwcaAPqwupZ8e9MiAuxh41zQJ'\n",
    "accessTokenSecret = 'SKoqrjICuRgv4bMpcXXJr5faXUGcndhLGxmHotvwT3CEC'\n",
    "auth = tweepy.OAuthHandler(consumerKey, consumerSecret)\n",
    "auth.set_access_token(accessToken, accessTokenSecret)\n",
    "api = tweepy.API(auth)\n",
    " \n",
    "        # Enter Hashtag and initial date\n",
    "#    print(\"Enter Twitter HashTag to search for\")\n",
    "#    words = input()\n",
    "words = 'Depression'\n",
    "    \n",
    "since_date=pd.to_datetime('2020-01-01')\n",
    "# number of tweets you want to extract in one run\n",
    "numtweet = 500\n",
    "scrape(words, since_date, numtweet)\n",
    "\n",
    "print('Scraping has completed!')"
   ]
  },
  {
   "cell_type": "code",
   "execution_count": 5,
   "metadata": {
    "id": "TrTIvugGDGDi"
   },
   "outputs": [],
   "source": [
    "df=pd.read_csv('/content/ptsd.csv')  "
   ]
  },
  {
   "cell_type": "code",
   "execution_count": 6,
   "metadata": {
    "colab": {
     "base_uri": "https://localhost:8080/",
     "height": 458
    },
    "id": "ghhPeUmtDTt_",
    "outputId": "1c114550-2acc-4823-b56a-afc1d56d6f14"
   },
   "outputs": [
    {
     "data": {
      "text/html": [
       "\n",
       "  <div id=\"df-3f64e441-7eec-40d7-8892-c057465020b0\">\n",
       "    <div class=\"colab-df-container\">\n",
       "      <div>\n",
       "<style scoped>\n",
       "    .dataframe tbody tr th:only-of-type {\n",
       "        vertical-align: middle;\n",
       "    }\n",
       "\n",
       "    .dataframe tbody tr th {\n",
       "        vertical-align: top;\n",
       "    }\n",
       "\n",
       "    .dataframe thead th {\n",
       "        text-align: right;\n",
       "    }\n",
       "</style>\n",
       "<table border=\"1\" class=\"dataframe\">\n",
       "  <thead>\n",
       "    <tr style=\"text-align: right;\">\n",
       "      <th></th>\n",
       "      <th>Unnamed: 0</th>\n",
       "      <th>description</th>\n",
       "      <th>location</th>\n",
       "      <th>retweetcount</th>\n",
       "      <th>text</th>\n",
       "      <th>date</th>\n",
       "      <th>hashtags</th>\n",
       "    </tr>\n",
       "  </thead>\n",
       "  <tbody>\n",
       "    <tr>\n",
       "      <th>0</th>\n",
       "      <td>0</td>\n",
       "      <td>Conducting a UK-based research project around ...</td>\n",
       "      <td>NaN</td>\n",
       "      <td>4</td>\n",
       "      <td>Dads, Traumatic Births and PTSD. \\nAs part of ...</td>\n",
       "      <td>2022-04-30 15:22:53+00:00</td>\n",
       "      <td>[]</td>\n",
       "    </tr>\n",
       "    <tr>\n",
       "      <th>1</th>\n",
       "      <td>1</td>\n",
       "      <td>✨i was feeling epic✨</td>\n",
       "      <td>where the money at</td>\n",
       "      <td>0</td>\n",
       "      <td>how crazy is it that i see all my friends wort...</td>\n",
       "      <td>2022-04-30 15:23:02+00:00</td>\n",
       "      <td>[]</td>\n",
       "    </tr>\n",
       "    <tr>\n",
       "      <th>2</th>\n",
       "      <td>2</td>\n",
       "      <td>NaN</td>\n",
       "      <td>in between life and death</td>\n",
       "      <td>0</td>\n",
       "      <td>2nd session with my new therapist: yeah hun th...</td>\n",
       "      <td>2022-04-30 15:23:20+00:00</td>\n",
       "      <td>[]</td>\n",
       "    </tr>\n",
       "    <tr>\n",
       "      <th>3</th>\n",
       "      <td>3</td>\n",
       "      <td>Sports:\\n#NYR\\n#LetsGoOilers\\n#NYG\\n#NYY #RepB...</td>\n",
       "      <td>OLD Harlem/South Charlotte</td>\n",
       "      <td>1</td>\n",
       "      <td>Watching #AtlantaFX from the other night...\\n\\...</td>\n",
       "      <td>2022-04-30 15:23:25+00:00</td>\n",
       "      <td>['AtlantaFX']</td>\n",
       "    </tr>\n",
       "    <tr>\n",
       "      <th>4</th>\n",
       "      <td>4</td>\n",
       "      <td>I'm not a guy.\\nArchitecture is giving me head...</td>\n",
       "      <td>NaN</td>\n",
       "      <td>0</td>\n",
       "      <td>@zussoo I try not to because it gives me \"PTSD\"</td>\n",
       "      <td>2022-04-30 15:23:25+00:00</td>\n",
       "      <td>[]</td>\n",
       "    </tr>\n",
       "  </tbody>\n",
       "</table>\n",
       "</div>\n",
       "      <button class=\"colab-df-convert\" onclick=\"convertToInteractive('df-3f64e441-7eec-40d7-8892-c057465020b0')\"\n",
       "              title=\"Convert this dataframe to an interactive table.\"\n",
       "              style=\"display:none;\">\n",
       "        \n",
       "  <svg xmlns=\"http://www.w3.org/2000/svg\" height=\"24px\"viewBox=\"0 0 24 24\"\n",
       "       width=\"24px\">\n",
       "    <path d=\"M0 0h24v24H0V0z\" fill=\"none\"/>\n",
       "    <path d=\"M18.56 5.44l.94 2.06.94-2.06 2.06-.94-2.06-.94-.94-2.06-.94 2.06-2.06.94zm-11 1L8.5 8.5l.94-2.06 2.06-.94-2.06-.94L8.5 2.5l-.94 2.06-2.06.94zm10 10l.94 2.06.94-2.06 2.06-.94-2.06-.94-.94-2.06-.94 2.06-2.06.94z\"/><path d=\"M17.41 7.96l-1.37-1.37c-.4-.4-.92-.59-1.43-.59-.52 0-1.04.2-1.43.59L10.3 9.45l-7.72 7.72c-.78.78-.78 2.05 0 2.83L4 21.41c.39.39.9.59 1.41.59.51 0 1.02-.2 1.41-.59l7.78-7.78 2.81-2.81c.8-.78.8-2.07 0-2.86zM5.41 20L4 18.59l7.72-7.72 1.47 1.35L5.41 20z\"/>\n",
       "  </svg>\n",
       "      </button>\n",
       "      \n",
       "  <style>\n",
       "    .colab-df-container {\n",
       "      display:flex;\n",
       "      flex-wrap:wrap;\n",
       "      gap: 12px;\n",
       "    }\n",
       "\n",
       "    .colab-df-convert {\n",
       "      background-color: #E8F0FE;\n",
       "      border: none;\n",
       "      border-radius: 50%;\n",
       "      cursor: pointer;\n",
       "      display: none;\n",
       "      fill: #1967D2;\n",
       "      height: 32px;\n",
       "      padding: 0 0 0 0;\n",
       "      width: 32px;\n",
       "    }\n",
       "\n",
       "    .colab-df-convert:hover {\n",
       "      background-color: #E2EBFA;\n",
       "      box-shadow: 0px 1px 2px rgba(60, 64, 67, 0.3), 0px 1px 3px 1px rgba(60, 64, 67, 0.15);\n",
       "      fill: #174EA6;\n",
       "    }\n",
       "\n",
       "    [theme=dark] .colab-df-convert {\n",
       "      background-color: #3B4455;\n",
       "      fill: #D2E3FC;\n",
       "    }\n",
       "\n",
       "    [theme=dark] .colab-df-convert:hover {\n",
       "      background-color: #434B5C;\n",
       "      box-shadow: 0px 1px 3px 1px rgba(0, 0, 0, 0.15);\n",
       "      filter: drop-shadow(0px 1px 2px rgba(0, 0, 0, 0.3));\n",
       "      fill: #FFFFFF;\n",
       "    }\n",
       "  </style>\n",
       "\n",
       "      <script>\n",
       "        const buttonEl =\n",
       "          document.querySelector('#df-3f64e441-7eec-40d7-8892-c057465020b0 button.colab-df-convert');\n",
       "        buttonEl.style.display =\n",
       "          google.colab.kernel.accessAllowed ? 'block' : 'none';\n",
       "\n",
       "        async function convertToInteractive(key) {\n",
       "          const element = document.querySelector('#df-3f64e441-7eec-40d7-8892-c057465020b0');\n",
       "          const dataTable =\n",
       "            await google.colab.kernel.invokeFunction('convertToInteractive',\n",
       "                                                     [key], {});\n",
       "          if (!dataTable) return;\n",
       "\n",
       "          const docLinkHtml = 'Like what you see? Visit the ' +\n",
       "            '<a target=\"_blank\" href=https://colab.research.google.com/notebooks/data_table.ipynb>data table notebook</a>'\n",
       "            + ' to learn more about interactive tables.';\n",
       "          element.innerHTML = '';\n",
       "          dataTable['output_type'] = 'display_data';\n",
       "          await google.colab.output.renderOutput(dataTable, element);\n",
       "          const docLink = document.createElement('div');\n",
       "          docLink.innerHTML = docLinkHtml;\n",
       "          element.appendChild(docLink);\n",
       "        }\n",
       "      </script>\n",
       "    </div>\n",
       "  </div>\n",
       "  "
      ],
      "text/plain": [
       "   Unnamed: 0                                        description  \\\n",
       "0           0  Conducting a UK-based research project around ...   \n",
       "1           1                               ✨i was feeling epic✨   \n",
       "2           2                                                NaN   \n",
       "3           3  Sports:\\n#NYR\\n#LetsGoOilers\\n#NYG\\n#NYY #RepB...   \n",
       "4           4  I'm not a guy.\\nArchitecture is giving me head...   \n",
       "\n",
       "                     location  retweetcount  \\\n",
       "0                         NaN             4   \n",
       "1          where the money at             0   \n",
       "2   in between life and death             0   \n",
       "3  OLD Harlem/South Charlotte             1   \n",
       "4                         NaN             0   \n",
       "\n",
       "                                                text  \\\n",
       "0  Dads, Traumatic Births and PTSD. \\nAs part of ...   \n",
       "1  how crazy is it that i see all my friends wort...   \n",
       "2  2nd session with my new therapist: yeah hun th...   \n",
       "3  Watching #AtlantaFX from the other night...\\n\\...   \n",
       "4    @zussoo I try not to because it gives me \"PTSD\"   \n",
       "\n",
       "                        date       hashtags  \n",
       "0  2022-04-30 15:22:53+00:00             []  \n",
       "1  2022-04-30 15:23:02+00:00             []  \n",
       "2  2022-04-30 15:23:20+00:00             []  \n",
       "3  2022-04-30 15:23:25+00:00  ['AtlantaFX']  \n",
       "4  2022-04-30 15:23:25+00:00             []  "
      ]
     },
     "execution_count": 6,
     "metadata": {},
     "output_type": "execute_result"
    }
   ],
   "source": [
    "df.head()"
   ]
  },
  {
   "cell_type": "code",
   "execution_count": 7,
   "metadata": {
    "id": "9ORl9j5aDXBE"
   },
   "outputs": [],
   "source": [
    "import re\n",
    "def cleanText(text):\n",
    "    text = re.sub(r'@[A-Za-z0-9]+','',text) # Removed @mentions\n",
    "    text = re.sub(r'#','',text) #Removing the # symbols\n",
    "    text = re.sub(r':','',text) #Removing the : symbols\n",
    "    text = re.sub(r'_','',text) #Removing the : symbols\n",
    "    text = re.sub(r'RT[\\s]+','',text) #Removing RT\n",
    "    text = re.sub(r'https?:\\/\\/\\S+','', text) # Removing the hyper link\n",
    "    return text\n",
    "df['text']=df['text'].apply(cleanText)"
   ]
  },
  {
   "cell_type": "code",
   "execution_count": 13,
   "metadata": {
    "colab": {
     "base_uri": "https://localhost:8080/"
    },
    "id": "Zh36-UajDoUi",
    "outputId": "86686f4d-e17c-4e60-d527-926921cfbbd7"
   },
   "outputs": [
    {
     "name": "stdout",
     "output_type": "stream",
     "text": [
      "Collecting pyLDAvis\n",
      "  Downloading pyLDAvis-3.3.1.tar.gz (1.7 MB)\n",
      "\u001b[?25l\r",
      "\u001b[K     |▏                               | 10 kB 16.6 MB/s eta 0:00:01\r",
      "\u001b[K     |▍                               | 20 kB 21.1 MB/s eta 0:00:01\r",
      "\u001b[K     |▋                               | 30 kB 17.4 MB/s eta 0:00:01\r",
      "\u001b[K     |▉                               | 40 kB 7.1 MB/s eta 0:00:01\r",
      "\u001b[K     |█                               | 51 kB 5.7 MB/s eta 0:00:01\r",
      "\u001b[K     |█▏                              | 61 kB 6.6 MB/s eta 0:00:01\r",
      "\u001b[K     |█▍                              | 71 kB 7.5 MB/s eta 0:00:01\r",
      "\u001b[K     |█▋                              | 81 kB 7.5 MB/s eta 0:00:01\r",
      "\u001b[K     |█▉                              | 92 kB 8.3 MB/s eta 0:00:01\r",
      "\u001b[K     |██                              | 102 kB 7.5 MB/s eta 0:00:01\r",
      "\u001b[K     |██▏                             | 112 kB 7.5 MB/s eta 0:00:01\r",
      "\u001b[K     |██▍                             | 122 kB 7.5 MB/s eta 0:00:01\r",
      "\u001b[K     |██▋                             | 133 kB 7.5 MB/s eta 0:00:01\r",
      "\u001b[K     |██▊                             | 143 kB 7.5 MB/s eta 0:00:01\r",
      "\u001b[K     |███                             | 153 kB 7.5 MB/s eta 0:00:01\r",
      "\u001b[K     |███▏                            | 163 kB 7.5 MB/s eta 0:00:01\r",
      "\u001b[K     |███▍                            | 174 kB 7.5 MB/s eta 0:00:01\r",
      "\u001b[K     |███▋                            | 184 kB 7.5 MB/s eta 0:00:01\r",
      "\u001b[K     |███▊                            | 194 kB 7.5 MB/s eta 0:00:01\r",
      "\u001b[K     |████                            | 204 kB 7.5 MB/s eta 0:00:01\r",
      "\u001b[K     |████▏                           | 215 kB 7.5 MB/s eta 0:00:01\r",
      "\u001b[K     |████▍                           | 225 kB 7.5 MB/s eta 0:00:01\r",
      "\u001b[K     |████▋                           | 235 kB 7.5 MB/s eta 0:00:01\r",
      "\u001b[K     |████▊                           | 245 kB 7.5 MB/s eta 0:00:01\r",
      "\u001b[K     |█████                           | 256 kB 7.5 MB/s eta 0:00:01\r",
      "\u001b[K     |█████▏                          | 266 kB 7.5 MB/s eta 0:00:01\r",
      "\u001b[K     |█████▍                          | 276 kB 7.5 MB/s eta 0:00:01\r",
      "\u001b[K     |█████▌                          | 286 kB 7.5 MB/s eta 0:00:01\r",
      "\u001b[K     |█████▊                          | 296 kB 7.5 MB/s eta 0:00:01\r",
      "\u001b[K     |██████                          | 307 kB 7.5 MB/s eta 0:00:01\r",
      "\u001b[K     |██████▏                         | 317 kB 7.5 MB/s eta 0:00:01\r",
      "\u001b[K     |██████▍                         | 327 kB 7.5 MB/s eta 0:00:01\r",
      "\u001b[K     |██████▌                         | 337 kB 7.5 MB/s eta 0:00:01\r",
      "\u001b[K     |██████▊                         | 348 kB 7.5 MB/s eta 0:00:01\r",
      "\u001b[K     |███████                         | 358 kB 7.5 MB/s eta 0:00:01\r",
      "\u001b[K     |███████▏                        | 368 kB 7.5 MB/s eta 0:00:01\r",
      "\u001b[K     |███████▎                        | 378 kB 7.5 MB/s eta 0:00:01\r",
      "\u001b[K     |███████▌                        | 389 kB 7.5 MB/s eta 0:00:01\r",
      "\u001b[K     |███████▊                        | 399 kB 7.5 MB/s eta 0:00:01\r",
      "\u001b[K     |████████                        | 409 kB 7.5 MB/s eta 0:00:01\r",
      "\u001b[K     |████████▏                       | 419 kB 7.5 MB/s eta 0:00:01\r",
      "\u001b[K     |████████▎                       | 430 kB 7.5 MB/s eta 0:00:01\r",
      "\u001b[K     |████████▌                       | 440 kB 7.5 MB/s eta 0:00:01\r",
      "\u001b[K     |████████▊                       | 450 kB 7.5 MB/s eta 0:00:01\r",
      "\u001b[K     |█████████                       | 460 kB 7.5 MB/s eta 0:00:01\r",
      "\u001b[K     |█████████▏                      | 471 kB 7.5 MB/s eta 0:00:01\r",
      "\u001b[K     |█████████▎                      | 481 kB 7.5 MB/s eta 0:00:01\r",
      "\u001b[K     |█████████▌                      | 491 kB 7.5 MB/s eta 0:00:01\r",
      "\u001b[K     |█████████▊                      | 501 kB 7.5 MB/s eta 0:00:01\r",
      "\u001b[K     |██████████                      | 512 kB 7.5 MB/s eta 0:00:01\r",
      "\u001b[K     |██████████                      | 522 kB 7.5 MB/s eta 0:00:01\r",
      "\u001b[K     |██████████▎                     | 532 kB 7.5 MB/s eta 0:00:01\r",
      "\u001b[K     |██████████▌                     | 542 kB 7.5 MB/s eta 0:00:01\r",
      "\u001b[K     |██████████▊                     | 552 kB 7.5 MB/s eta 0:00:01\r",
      "\u001b[K     |███████████                     | 563 kB 7.5 MB/s eta 0:00:01\r",
      "\u001b[K     |███████████                     | 573 kB 7.5 MB/s eta 0:00:01\r",
      "\u001b[K     |███████████▎                    | 583 kB 7.5 MB/s eta 0:00:01\r",
      "\u001b[K     |███████████▌                    | 593 kB 7.5 MB/s eta 0:00:01\r",
      "\u001b[K     |███████████▊                    | 604 kB 7.5 MB/s eta 0:00:01\r",
      "\u001b[K     |███████████▉                    | 614 kB 7.5 MB/s eta 0:00:01\r",
      "\u001b[K     |████████████                    | 624 kB 7.5 MB/s eta 0:00:01\r",
      "\u001b[K     |████████████▎                   | 634 kB 7.5 MB/s eta 0:00:01\r",
      "\u001b[K     |████████████▌                   | 645 kB 7.5 MB/s eta 0:00:01\r",
      "\u001b[K     |████████████▊                   | 655 kB 7.5 MB/s eta 0:00:01\r",
      "\u001b[K     |████████████▉                   | 665 kB 7.5 MB/s eta 0:00:01\r",
      "\u001b[K     |█████████████                   | 675 kB 7.5 MB/s eta 0:00:01\r",
      "\u001b[K     |█████████████▎                  | 686 kB 7.5 MB/s eta 0:00:01\r",
      "\u001b[K     |█████████████▌                  | 696 kB 7.5 MB/s eta 0:00:01\r",
      "\u001b[K     |█████████████▊                  | 706 kB 7.5 MB/s eta 0:00:01\r",
      "\u001b[K     |█████████████▉                  | 716 kB 7.5 MB/s eta 0:00:01\r",
      "\u001b[K     |██████████████                  | 727 kB 7.5 MB/s eta 0:00:01\r",
      "\u001b[K     |██████████████▎                 | 737 kB 7.5 MB/s eta 0:00:01\r",
      "\u001b[K     |██████████████▌                 | 747 kB 7.5 MB/s eta 0:00:01\r",
      "\u001b[K     |██████████████▋                 | 757 kB 7.5 MB/s eta 0:00:01\r",
      "\u001b[K     |██████████████▉                 | 768 kB 7.5 MB/s eta 0:00:01\r",
      "\u001b[K     |███████████████                 | 778 kB 7.5 MB/s eta 0:00:01\r",
      "\u001b[K     |███████████████▎                | 788 kB 7.5 MB/s eta 0:00:01\r",
      "\u001b[K     |███████████████▌                | 798 kB 7.5 MB/s eta 0:00:01\r",
      "\u001b[K     |███████████████▋                | 808 kB 7.5 MB/s eta 0:00:01\r",
      "\u001b[K     |███████████████▉                | 819 kB 7.5 MB/s eta 0:00:01\r",
      "\u001b[K     |████████████████                | 829 kB 7.5 MB/s eta 0:00:01\r",
      "\u001b[K     |████████████████▎               | 839 kB 7.5 MB/s eta 0:00:01\r",
      "\u001b[K     |████████████████▍               | 849 kB 7.5 MB/s eta 0:00:01\r",
      "\u001b[K     |████████████████▋               | 860 kB 7.5 MB/s eta 0:00:01\r",
      "\u001b[K     |████████████████▉               | 870 kB 7.5 MB/s eta 0:00:01\r",
      "\u001b[K     |█████████████████               | 880 kB 7.5 MB/s eta 0:00:01\r",
      "\u001b[K     |█████████████████▎              | 890 kB 7.5 MB/s eta 0:00:01\r",
      "\u001b[K     |█████████████████▍              | 901 kB 7.5 MB/s eta 0:00:01\r",
      "\u001b[K     |█████████████████▋              | 911 kB 7.5 MB/s eta 0:00:01\r",
      "\u001b[K     |█████████████████▉              | 921 kB 7.5 MB/s eta 0:00:01\r",
      "\u001b[K     |██████████████████              | 931 kB 7.5 MB/s eta 0:00:01\r",
      "\u001b[K     |██████████████████▎             | 942 kB 7.5 MB/s eta 0:00:01\r",
      "\u001b[K     |██████████████████▍             | 952 kB 7.5 MB/s eta 0:00:01\r",
      "\u001b[K     |██████████████████▋             | 962 kB 7.5 MB/s eta 0:00:01\r",
      "\u001b[K     |██████████████████▉             | 972 kB 7.5 MB/s eta 0:00:01\r",
      "\u001b[K     |███████████████████             | 983 kB 7.5 MB/s eta 0:00:01\r",
      "\u001b[K     |███████████████████▏            | 993 kB 7.5 MB/s eta 0:00:01\r",
      "\u001b[K     |███████████████████▍            | 1.0 MB 7.5 MB/s eta 0:00:01\r",
      "\u001b[K     |███████████████████▋            | 1.0 MB 7.5 MB/s eta 0:00:01\r",
      "\u001b[K     |███████████████████▉            | 1.0 MB 7.5 MB/s eta 0:00:01\r",
      "\u001b[K     |████████████████████            | 1.0 MB 7.5 MB/s eta 0:00:01\r",
      "\u001b[K     |████████████████████▏           | 1.0 MB 7.5 MB/s eta 0:00:01\r",
      "\u001b[K     |████████████████████▍           | 1.1 MB 7.5 MB/s eta 0:00:01\r",
      "\u001b[K     |████████████████████▋           | 1.1 MB 7.5 MB/s eta 0:00:01\r",
      "\u001b[K     |████████████████████▉           | 1.1 MB 7.5 MB/s eta 0:00:01\r",
      "\u001b[K     |█████████████████████           | 1.1 MB 7.5 MB/s eta 0:00:01\r",
      "\u001b[K     |█████████████████████▏          | 1.1 MB 7.5 MB/s eta 0:00:01\r",
      "\u001b[K     |█████████████████████▍          | 1.1 MB 7.5 MB/s eta 0:00:01\r",
      "\u001b[K     |█████████████████████▋          | 1.1 MB 7.5 MB/s eta 0:00:01\r",
      "\u001b[K     |█████████████████████▉          | 1.1 MB 7.5 MB/s eta 0:00:01\r",
      "\u001b[K     |██████████████████████          | 1.1 MB 7.5 MB/s eta 0:00:01\r",
      "\u001b[K     |██████████████████████▏         | 1.1 MB 7.5 MB/s eta 0:00:01\r",
      "\u001b[K     |██████████████████████▍         | 1.2 MB 7.5 MB/s eta 0:00:01\r",
      "\u001b[K     |██████████████████████▋         | 1.2 MB 7.5 MB/s eta 0:00:01\r",
      "\u001b[K     |██████████████████████▉         | 1.2 MB 7.5 MB/s eta 0:00:01\r",
      "\u001b[K     |███████████████████████         | 1.2 MB 7.5 MB/s eta 0:00:01\r",
      "\u001b[K     |███████████████████████▏        | 1.2 MB 7.5 MB/s eta 0:00:01\r",
      "\u001b[K     |███████████████████████▍        | 1.2 MB 7.5 MB/s eta 0:00:01\r",
      "\u001b[K     |███████████████████████▋        | 1.2 MB 7.5 MB/s eta 0:00:01\r",
      "\u001b[K     |███████████████████████▊        | 1.2 MB 7.5 MB/s eta 0:00:01\r",
      "\u001b[K     |████████████████████████        | 1.2 MB 7.5 MB/s eta 0:00:01\r",
      "\u001b[K     |████████████████████████▏       | 1.2 MB 7.5 MB/s eta 0:00:01\r",
      "\u001b[K     |████████████████████████▍       | 1.3 MB 7.5 MB/s eta 0:00:01\r",
      "\u001b[K     |████████████████████████▋       | 1.3 MB 7.5 MB/s eta 0:00:01\r",
      "\u001b[K     |████████████████████████▊       | 1.3 MB 7.5 MB/s eta 0:00:01\r",
      "\u001b[K     |█████████████████████████       | 1.3 MB 7.5 MB/s eta 0:00:01\r",
      "\u001b[K     |█████████████████████████▏      | 1.3 MB 7.5 MB/s eta 0:00:01\r",
      "\u001b[K     |█████████████████████████▍      | 1.3 MB 7.5 MB/s eta 0:00:01\r",
      "\u001b[K     |█████████████████████████▌      | 1.3 MB 7.5 MB/s eta 0:00:01\r",
      "\u001b[K     |█████████████████████████▊      | 1.3 MB 7.5 MB/s eta 0:00:01\r",
      "\u001b[K     |██████████████████████████      | 1.3 MB 7.5 MB/s eta 0:00:01\r",
      "\u001b[K     |██████████████████████████▏     | 1.4 MB 7.5 MB/s eta 0:00:01\r",
      "\u001b[K     |██████████████████████████▍     | 1.4 MB 7.5 MB/s eta 0:00:01\r",
      "\u001b[K     |██████████████████████████▌     | 1.4 MB 7.5 MB/s eta 0:00:01\r",
      "\u001b[K     |██████████████████████████▊     | 1.4 MB 7.5 MB/s eta 0:00:01\r",
      "\u001b[K     |███████████████████████████     | 1.4 MB 7.5 MB/s eta 0:00:01\r",
      "\u001b[K     |███████████████████████████▏    | 1.4 MB 7.5 MB/s eta 0:00:01\r",
      "\u001b[K     |███████████████████████████▍    | 1.4 MB 7.5 MB/s eta 0:00:01\r",
      "\u001b[K     |███████████████████████████▌    | 1.4 MB 7.5 MB/s eta 0:00:01\r",
      "\u001b[K     |███████████████████████████▊    | 1.4 MB 7.5 MB/s eta 0:00:01\r",
      "\u001b[K     |████████████████████████████    | 1.4 MB 7.5 MB/s eta 0:00:01\r",
      "\u001b[K     |████████████████████████████▏   | 1.5 MB 7.5 MB/s eta 0:00:01\r",
      "\u001b[K     |████████████████████████████▎   | 1.5 MB 7.5 MB/s eta 0:00:01\r",
      "\u001b[K     |████████████████████████████▌   | 1.5 MB 7.5 MB/s eta 0:00:01\r",
      "\u001b[K     |████████████████████████████▊   | 1.5 MB 7.5 MB/s eta 0:00:01\r",
      "\u001b[K     |█████████████████████████████   | 1.5 MB 7.5 MB/s eta 0:00:01\r",
      "\u001b[K     |█████████████████████████████▏  | 1.5 MB 7.5 MB/s eta 0:00:01\r",
      "\u001b[K     |█████████████████████████████▎  | 1.5 MB 7.5 MB/s eta 0:00:01\r",
      "\u001b[K     |█████████████████████████████▌  | 1.5 MB 7.5 MB/s eta 0:00:01\r",
      "\u001b[K     |█████████████████████████████▊  | 1.5 MB 7.5 MB/s eta 0:00:01\r",
      "\u001b[K     |██████████████████████████████  | 1.5 MB 7.5 MB/s eta 0:00:01\r",
      "\u001b[K     |██████████████████████████████▏ | 1.6 MB 7.5 MB/s eta 0:00:01\r",
      "\u001b[K     |██████████████████████████████▎ | 1.6 MB 7.5 MB/s eta 0:00:01\r",
      "\u001b[K     |██████████████████████████████▌ | 1.6 MB 7.5 MB/s eta 0:00:01\r",
      "\u001b[K     |██████████████████████████████▊ | 1.6 MB 7.5 MB/s eta 0:00:01\r",
      "\u001b[K     |███████████████████████████████ | 1.6 MB 7.5 MB/s eta 0:00:01\r",
      "\u001b[K     |███████████████████████████████ | 1.6 MB 7.5 MB/s eta 0:00:01\r",
      "\u001b[K     |███████████████████████████████▎| 1.6 MB 7.5 MB/s eta 0:00:01\r",
      "\u001b[K     |███████████████████████████████▌| 1.6 MB 7.5 MB/s eta 0:00:01\r",
      "\u001b[K     |███████████████████████████████▊| 1.6 MB 7.5 MB/s eta 0:00:01\r",
      "\u001b[K     |████████████████████████████████| 1.6 MB 7.5 MB/s eta 0:00:01\r",
      "\u001b[K     |████████████████████████████████| 1.7 MB 7.5 MB/s \n",
      "\u001b[?25h  Installing build dependencies ... \u001b[?25l\u001b[?25hdone\n",
      "  Getting requirements to build wheel ... \u001b[?25l\u001b[?25hdone\n",
      "  Installing backend dependencies ... \u001b[?25l\u001b[?25hdone\n",
      "    Preparing wheel metadata ... \u001b[?25l\u001b[?25hdone\n",
      "Requirement already satisfied: gensim in /usr/local/lib/python3.7/dist-packages (from pyLDAvis) (3.6.0)\n",
      "Requirement already satisfied: numexpr in /usr/local/lib/python3.7/dist-packages (from pyLDAvis) (2.8.1)\n",
      "Collecting funcy\n",
      "  Downloading funcy-1.17-py2.py3-none-any.whl (33 kB)\n",
      "Requirement already satisfied: joblib in /usr/local/lib/python3.7/dist-packages (from pyLDAvis) (1.1.0)\n",
      "Requirement already satisfied: sklearn in /usr/local/lib/python3.7/dist-packages (from pyLDAvis) (0.0)\n",
      "Requirement already satisfied: scipy in /usr/local/lib/python3.7/dist-packages (from pyLDAvis) (1.4.1)\n",
      "Requirement already satisfied: scikit-learn in /usr/local/lib/python3.7/dist-packages (from pyLDAvis) (1.0.2)\n",
      "Requirement already satisfied: setuptools in /usr/local/lib/python3.7/dist-packages (from pyLDAvis) (57.4.0)\n",
      "Requirement already satisfied: numpy>=1.20.0 in /usr/local/lib/python3.7/dist-packages (from pyLDAvis) (1.21.6)\n",
      "Requirement already satisfied: pandas>=1.2.0 in /usr/local/lib/python3.7/dist-packages (from pyLDAvis) (1.3.5)\n",
      "Requirement already satisfied: jinja2 in /usr/local/lib/python3.7/dist-packages (from pyLDAvis) (2.11.3)\n",
      "Requirement already satisfied: future in /usr/local/lib/python3.7/dist-packages (from pyLDAvis) (0.16.0)\n",
      "Requirement already satisfied: python-dateutil>=2.7.3 in /usr/local/lib/python3.7/dist-packages (from pandas>=1.2.0->pyLDAvis) (2.8.2)\n",
      "Requirement already satisfied: pytz>=2017.3 in /usr/local/lib/python3.7/dist-packages (from pandas>=1.2.0->pyLDAvis) (2022.1)\n",
      "Requirement already satisfied: six>=1.5 in /usr/local/lib/python3.7/dist-packages (from python-dateutil>=2.7.3->pandas>=1.2.0->pyLDAvis) (1.15.0)\n",
      "Requirement already satisfied: smart-open>=1.2.1 in /usr/local/lib/python3.7/dist-packages (from gensim->pyLDAvis) (6.0.0)\n",
      "Requirement already satisfied: MarkupSafe>=0.23 in /usr/local/lib/python3.7/dist-packages (from jinja2->pyLDAvis) (2.0.1)\n",
      "Requirement already satisfied: packaging in /usr/local/lib/python3.7/dist-packages (from numexpr->pyLDAvis) (21.3)\n",
      "Requirement already satisfied: pyparsing!=3.0.5,>=2.0.2 in /usr/local/lib/python3.7/dist-packages (from packaging->numexpr->pyLDAvis) (3.0.8)\n",
      "Requirement already satisfied: threadpoolctl>=2.0.0 in /usr/local/lib/python3.7/dist-packages (from scikit-learn->pyLDAvis) (3.1.0)\n",
      "Building wheels for collected packages: pyLDAvis\n",
      "  Building wheel for pyLDAvis (PEP 517) ... \u001b[?25l\u001b[?25hdone\n",
      "  Created wheel for pyLDAvis: filename=pyLDAvis-3.3.1-py2.py3-none-any.whl size=136898 sha256=f84b898b557053e5dc59168326f20ffa3920a92edd5351ebdf2f3d4fb871e1ba\n",
      "  Stored in directory: /root/.cache/pip/wheels/c9/21/f6/17bcf2667e8a68532ba2fbf6d5c72fdf4c7f7d9abfa4852d2f\n",
      "Successfully built pyLDAvis\n",
      "Installing collected packages: funcy, pyLDAvis\n",
      "Successfully installed funcy-1.17 pyLDAvis-3.3.1\n",
      "\u001b[31mERROR: Could not find a version that satisfies the requirement pyLDAvis.gensim (from versions: none)\u001b[0m\n",
      "\u001b[31mERROR: No matching distribution found for pyLDAvis.gensim\u001b[0m\n"
     ]
    },
    {
     "name": "stderr",
     "output_type": "stream",
     "text": [
      "/usr/local/lib/python3.7/dist-packages/past/types/oldstr.py:5: DeprecationWarning: Using or importing the ABCs from 'collections' instead of from 'collections.abc' is deprecated since Python 3.3,and in 3.9 it will stop working\n",
      "  from collections import Iterable\n"
     ]
    }
   ],
   "source": [
    "import numpy as np\n",
    "import json\n",
    "import glob\n",
    "!pip install pyLDAvis\n",
    "!pip install pyLDAvis.gensim\n",
    "#Gensim\n",
    "import gensim\n",
    "import gensim.corpora as corpora\n",
    "from gensim.utils import simple_preprocess\n",
    "from gensim.models import CoherenceModel\n",
    "\n",
    "#spacy\n",
    "import spacy\n",
    "from nltk.corpus import stopwords\n",
    "\n",
    "#vis\n",
    "import pyLDAvis\n",
    "import pyLDAvis.gensim_models\n",
    "\n",
    "import warnings\n",
    "warnings.filterwarnings(\"ignore\", category=DeprecationWarning)\n",
    "\n"
   ]
  },
  {
   "cell_type": "code",
   "execution_count": 14,
   "metadata": {
    "colab": {
     "base_uri": "https://localhost:8080/"
    },
    "id": "KZBnJH3QDoW9",
    "outputId": "8937749d-f84c-4af3-9bc1-a6f72e3ba91d"
   },
   "outputs": [
    {
     "name": "stdout",
     "output_type": "stream",
     "text": [
      "[nltk_data] Downloading package stopwords to /root/nltk_data...\n",
      "[nltk_data]   Unzipping corpora/stopwords.zip.\n"
     ]
    },
    {
     "data": {
      "text/plain": [
       "True"
      ]
     },
     "execution_count": 14,
     "metadata": {},
     "output_type": "execute_result"
    }
   ],
   "source": [
    "import nltk\n",
    "nltk.download('stopwords')"
   ]
  },
  {
   "cell_type": "code",
   "execution_count": 13,
   "metadata": {
    "id": "Mn91-QSMDoZV"
   },
   "outputs": [],
   "source": [
    "stopwords = stopwords.words(\"english\")"
   ]
  },
  {
   "cell_type": "code",
   "execution_count": 15,
   "metadata": {
    "colab": {
     "base_uri": "https://localhost:8080/"
    },
    "id": "3ewpzNmUDogq",
    "outputId": "e14bcdbb-7edc-4144-c848-6dba34dfd555"
   },
   "outputs": [
    {
     "name": "stdout",
     "output_type": "stream",
     "text": [
      "<WordListCorpusReader in '.../corpora/stopwords' (not loaded yet)>\n"
     ]
    }
   ],
   "source": [
    "print (stopwords)"
   ]
  },
  {
   "cell_type": "code",
   "execution_count": 16,
   "metadata": {
    "colab": {
     "base_uri": "https://localhost:8080/"
    },
    "id": "VqcC0pQ3DXQ5",
    "outputId": "371da8c3-07fe-41be-d89b-887c934f1110"
   },
   "outputs": [
    {
     "name": "stdout",
     "output_type": "stream",
     "text": [
      "Dads, Traumatic Births and PTSD. \n",
      "As part of the  UK Maternal Mental Health Awareness Week\n"
     ]
    }
   ],
   "source": [
    "data=df['text']\n",
    "print (data[0][0:90])"
   ]
  },
  {
   "cell_type": "code",
   "execution_count": 17,
   "metadata": {
    "colab": {
     "base_uri": "https://localhost:8080/"
    },
    "id": "R_J5wJb2OZ6k",
    "outputId": "97f4b9f6-3126-49c0-ef35-522f89c07ed2"
   },
   "outputs": [
    {
     "name": "stdout",
     "output_type": "stream",
     "text": [
      "dad traumatic part delighted work important session dad traumatic 7th p.m. thepowerofconne\n"
     ]
    }
   ],
   "source": [
    "def lemmatization(texts, allowed_postags=[\"NOUN\", \"ADJ\", \"VERB\", \"ADV\"]):\n",
    "    nlp = spacy.load(\"en_core_web_sm\", disable=[\"parser\", \"ner\"])\n",
    "    texts_out = []\n",
    "    for text in texts:\n",
    "        doc = nlp(text)\n",
    "        new_text = []\n",
    "        for token in doc:\n",
    "            if token.pos_ in allowed_postags:\n",
    "                new_text.append(token.lemma_)\n",
    "        final = \" \".join(new_text)\n",
    "        texts_out.append(final)\n",
    "    return (texts_out)\n",
    "\n",
    "\n",
    "lemmatized_texts = lemmatization(data)\n",
    "print (lemmatized_texts[0][0:90])"
   ]
  },
  {
   "cell_type": "code",
   "execution_count": null,
   "metadata": {
    "id": "-4-IL6lLITCF"
   },
   "outputs": [],
   "source": []
  },
  {
   "cell_type": "code",
   "execution_count": null,
   "metadata": {
    "id": "Cyi9rWPjITFS"
   },
   "outputs": [],
   "source": []
  },
  {
   "cell_type": "code",
   "execution_count": null,
   "metadata": {
    "id": "X5r3ID6bITRo"
   },
   "outputs": [],
   "source": []
  },
  {
   "cell_type": "code",
   "execution_count": 18,
   "metadata": {
    "colab": {
     "base_uri": "https://localhost:8080/"
    },
    "id": "CIwuyhlKOZ9H",
    "outputId": "5f3b4798-ab15-4b20-dc0f-e90ceb24eef5"
   },
   "outputs": [
    {
     "name": "stdout",
     "output_type": "stream",
     "text": [
      "['dad', 'traumatic', 'part', 'delighted', 'work', 'important', 'session', 'dad', 'traumatic', 'th', 'https', 'co', 'seh']\n"
     ]
    }
   ],
   "source": [
    "def gen_words(texts):\n",
    "    final = []\n",
    "    for text in texts:\n",
    "        new = gensim.utils.simple_preprocess(text, deacc=True)\n",
    "        final.append(new)\n",
    "    return (final)\n",
    "\n",
    "data_words = gen_words(lemmatized_texts)\n",
    "\n",
    "print (data_words[0][0:20])"
   ]
  },
  {
   "cell_type": "code",
   "execution_count": 19,
   "metadata": {
    "colab": {
     "base_uri": "https://localhost:8080/"
    },
    "id": "tpkV-A46l3G4",
    "outputId": "fba62887-b977-4ea4-e908-41d8353604e1"
   },
   "outputs": [
    {
     "name": "stdout",
     "output_type": "stream",
     "text": [
      "['dad', 'traumatic', 'part', 'delighted', 'work', 'important', 'session', 'dad', 'traumatic', 'th', 'https_co', 'seh']\n"
     ]
    },
    {
     "name": "stderr",
     "output_type": "stream",
     "text": [
      "/usr/local/lib/python3.7/dist-packages/gensim/models/phrases.py:598: UserWarning: For a faster implementation, use the gensim.models.phrases.Phraser class\n",
      "  warnings.warn(\"For a faster implementation, use the gensim.models.phrases.Phraser class\")\n"
     ]
    }
   ],
   "source": [
    "# Build the bigram and trigram models\n",
    "bigram = gensim.models.Phrases(data_words, min_count=5, threshold=100) # higher threshold fewer phrases.\n",
    "trigram = gensim.models.Phrases(bigram[data_words], threshold=100)  \n",
    "\n",
    "# Faster way to get a sentence clubbed as a trigram/bigram\n",
    "bigram_mod = gensim.models.phrases.Phraser(bigram)\n",
    "trigram_mod = gensim.models.phrases.Phraser(trigram)\n",
    "\n",
    "# See trigram example\n",
    "print(trigram_mod[bigram_mod[data_words[0]]])\n"
   ]
  },
  {
   "cell_type": "code",
   "execution_count": 21,
   "metadata": {
    "id": "QG4lGV1JmNNb"
   },
   "outputs": [],
   "source": [
    "# NLTK Stop words\n",
    "from nltk.corpus import stopwords\n",
    "stop_words = stopwords.words('english')\n",
    "stop_words.extend(['from', 'subject', 're', 'edu', 'use'])"
   ]
  },
  {
   "cell_type": "code",
   "execution_count": 22,
   "metadata": {
    "colab": {
     "base_uri": "https://localhost:8080/"
    },
    "id": "0X6Rak5ql4wO",
    "outputId": "91680b2c-d30a-47e5-dea2-f322904fe434"
   },
   "outputs": [
    {
     "name": "stdout",
     "output_type": "stream",
     "text": [
      "[['traumatic', 'part', 'delight', 'work', 'important', 'session', 'dad', 'traumatic', 'seh']]\n"
     ]
    }
   ],
   "source": [
    "# Remove Stop Words\n",
    "data_words_nostops = remove_stopwords(data_words)\n",
    "\n",
    "# Form Bigrams\n",
    "data_words_bigrams = make_bigrams(data_words_nostops)\n",
    "\n",
    "# Initialize spacy 'en' model, keeping only tagger component (for efficiency)\n",
    "# python3 -m spacy download en\n",
    "nlp = spacy.load('en', disable=['parser', 'ner'])\n",
    "\n",
    "# Do lemmatization keeping only noun, adj, vb, adv\n",
    "data_lemmatized = lemmatization(data_words_bigrams, allowed_postags=['NOUN', 'ADJ', 'VERB', 'ADV'])\n",
    "\n",
    "print(data_lemmatized[:1])"
   ]
  },
  {
   "cell_type": "code",
   "execution_count": 23,
   "metadata": {
    "colab": {
     "base_uri": "https://localhost:8080/"
    },
    "id": "ANJ15FLql4yk",
    "outputId": "a66ce986-65e7-46c8-e2ac-fa6e69cc1df1"
   },
   "outputs": [
    {
     "name": "stdout",
     "output_type": "stream",
     "text": [
      "[[(0, 1), (1, 1), (2, 1), (3, 1), (4, 1), (5, 1), (6, 2), (7, 1)]]\n"
     ]
    }
   ],
   "source": [
    "# Create Dictionary\n",
    "id2word = corpora.Dictionary(data_lemmatized)\n",
    "\n",
    "# Create Corpus\n",
    "texts = data_lemmatized\n",
    "\n",
    "# Term Document Frequency\n",
    "corpus = [id2word.doc2bow(text) for text in texts]\n",
    "\n",
    "# View\n",
    "print(corpus[:1])"
   ]
  },
  {
   "cell_type": "code",
   "execution_count": 24,
   "metadata": {
    "colab": {
     "base_uri": "https://localhost:8080/"
    },
    "id": "8w5_vvAGl41N",
    "outputId": "0110a251-cc11-453a-c5fc-2444cb056996"
   },
   "outputs": [
    {
     "data": {
      "text/plain": [
       "[[('dad', 1),\n",
       "  ('delight', 1),\n",
       "  ('important', 1),\n",
       "  ('part', 1),\n",
       "  ('seh', 1),\n",
       "  ('session', 1),\n",
       "  ('traumatic', 2),\n",
       "  ('work', 1)]]"
      ]
     },
     "execution_count": 24,
     "metadata": {},
     "output_type": "execute_result"
    }
   ],
   "source": [
    "# Human readable format of corpus (term-frequency)\n",
    "[[(id2word[id], freq) for id, freq in cp] for cp in corpus[:1]]\n"
   ]
  },
  {
   "cell_type": "code",
   "execution_count": 25,
   "metadata": {
    "id": "Dv0KulCLl43y"
   },
   "outputs": [],
   "source": [
    "# Build LDA model\n",
    "lda_model = gensim.models.ldamodel.LdaModel(corpus=corpus,\n",
    "                                           id2word=id2word,\n",
    "                                           num_topics=4, \n",
    "                                           random_state=100,\n",
    "                                           update_every=1,\n",
    "                                           chunksize=100,\n",
    "                                           passes=10,\n",
    "                                           alpha='auto',\n",
    "                                           per_word_topics=True)"
   ]
  },
  {
   "cell_type": "code",
   "execution_count": 26,
   "metadata": {
    "colab": {
     "base_uri": "https://localhost:8080/"
    },
    "id": "ewnXkmP5makQ",
    "outputId": "a7d8845c-fdca-4f95-c3e7-9619dcc50e64"
   },
   "outputs": [
    {
     "name": "stdout",
     "output_type": "stream",
     "text": [
      "[(0, '0.039*\"parent\" + 0.032*\"give\" + 0.016*\"ask\" + 0.015*\"positivity\" + 0.015*\"child\" + 0.014*\"mental\" + 0.014*\"put\" + 0.010*\"health_issue\" + 0.010*\"sit\" + 0.008*\"amp\"'), (1, '0.025*\"need\" + 0.021*\"year\" + 0.018*\"help\" + 0.016*\"depression\" + 0.015*\"suffer\" + 0.013*\"life\" + 0.011*\"watch\" + 0.011*\"away\" + 0.010*\"hear\" + 0.009*\"good\"'), (2, '0.035*\"get\" + 0.028*\"still\" + 0.026*\"help\" + 0.025*\"think\" + 0.020*\"ptsd\" + 0.019*\"block\" + 0.018*\"deliver\" + 0.017*\"would\" + 0.017*\"anytime_message\" + 0.015*\"take\"'), (3, '0.024*\"make\" + 0.019*\"people\" + 0.015*\"also\" + 0.011*\"go\" + 0.010*\"abuse\" + 0.010*\"ptsd\" + 0.010*\"suffer\" + 0.009*\"say\" + 0.009*\"back\" + 0.008*\"veteran\"')]\n"
     ]
    }
   ],
   "source": [
    "# Print the Keyword in the 10 topics\n",
    "print(lda_model.print_topics())\n",
    "doc_lda = lda_model[corpus]"
   ]
  },
  {
   "cell_type": "code",
   "execution_count": 72,
   "metadata": {
    "colab": {
     "base_uri": "https://localhost:8080/",
     "height": 337
    },
    "id": "5zHUObpubIsU",
    "outputId": "af29e887-af7e-4edb-be67-47df40458307"
   },
   "outputs": [
    {
     "data": {
      "text/html": [
       "\n",
       "  <div id=\"df-c76ca6f7-9f74-4e82-bf8e-9cb3b3000ac3\">\n",
       "    <div class=\"colab-df-container\">\n",
       "      <div>\n",
       "<style scoped>\n",
       "    .dataframe tbody tr th:only-of-type {\n",
       "        vertical-align: middle;\n",
       "    }\n",
       "\n",
       "    .dataframe tbody tr th {\n",
       "        vertical-align: top;\n",
       "    }\n",
       "\n",
       "    .dataframe thead th {\n",
       "        text-align: right;\n",
       "    }\n",
       "</style>\n",
       "<table border=\"1\" class=\"dataframe\">\n",
       "  <thead>\n",
       "    <tr style=\"text-align: right;\">\n",
       "      <th></th>\n",
       "      <th>Document_No</th>\n",
       "      <th>Dominant_Topic</th>\n",
       "      <th>Topic_Perc_Contrib</th>\n",
       "      <th>Keywords</th>\n",
       "      <th>Text</th>\n",
       "    </tr>\n",
       "  </thead>\n",
       "  <tbody>\n",
       "    <tr>\n",
       "      <th>0</th>\n",
       "      <td>0</td>\n",
       "      <td>1.0</td>\n",
       "      <td>0.6824</td>\n",
       "      <td>depression, anxiety, good, help, life, make, t...</td>\n",
       "      <td>Depression isn’t always looking and feeling sa...</td>\n",
       "    </tr>\n",
       "    <tr>\n",
       "      <th>1</th>\n",
       "      <td>1</td>\n",
       "      <td>1.0</td>\n",
       "      <td>0.8778</td>\n",
       "      <td>depression, anxiety, good, help, life, make, t...</td>\n",
       "      <td>\"Hehehe now that's some power level I see!... ...</td>\n",
       "    </tr>\n",
       "    <tr>\n",
       "      <th>2</th>\n",
       "      <td>2</td>\n",
       "      <td>3.0</td>\n",
       "      <td>0.9018</td>\n",
       "      <td>depression, take, say, cause, save, life, suic...</td>\n",
       "      <td>How To Stimulate Your Vagus Nerve for Better M...</td>\n",
       "    </tr>\n",
       "    <tr>\n",
       "      <th>3</th>\n",
       "      <td>3</td>\n",
       "      <td>2.0</td>\n",
       "      <td>0.3969</td>\n",
       "      <td>depression, anxiety, much, help, time, work, g...</td>\n",
       "      <td>depression as a red flag lmao https//t.co/xc7E...</td>\n",
       "    </tr>\n",
       "    <tr>\n",
       "      <th>4</th>\n",
       "      <td>4</td>\n",
       "      <td>3.0</td>\n",
       "      <td>0.7548</td>\n",
       "      <td>depression, take, say, cause, save, life, suic...</td>\n",
       "      <td>☏ Houston County Board of Education says menta...</td>\n",
       "    </tr>\n",
       "  </tbody>\n",
       "</table>\n",
       "</div>\n",
       "      <button class=\"colab-df-convert\" onclick=\"convertToInteractive('df-c76ca6f7-9f74-4e82-bf8e-9cb3b3000ac3')\"\n",
       "              title=\"Convert this dataframe to an interactive table.\"\n",
       "              style=\"display:none;\">\n",
       "        \n",
       "  <svg xmlns=\"http://www.w3.org/2000/svg\" height=\"24px\"viewBox=\"0 0 24 24\"\n",
       "       width=\"24px\">\n",
       "    <path d=\"M0 0h24v24H0V0z\" fill=\"none\"/>\n",
       "    <path d=\"M18.56 5.44l.94 2.06.94-2.06 2.06-.94-2.06-.94-.94-2.06-.94 2.06-2.06.94zm-11 1L8.5 8.5l.94-2.06 2.06-.94-2.06-.94L8.5 2.5l-.94 2.06-2.06.94zm10 10l.94 2.06.94-2.06 2.06-.94-2.06-.94-.94-2.06-.94 2.06-2.06.94z\"/><path d=\"M17.41 7.96l-1.37-1.37c-.4-.4-.92-.59-1.43-.59-.52 0-1.04.2-1.43.59L10.3 9.45l-7.72 7.72c-.78.78-.78 2.05 0 2.83L4 21.41c.39.39.9.59 1.41.59.51 0 1.02-.2 1.41-.59l7.78-7.78 2.81-2.81c.8-.78.8-2.07 0-2.86zM5.41 20L4 18.59l7.72-7.72 1.47 1.35L5.41 20z\"/>\n",
       "  </svg>\n",
       "      </button>\n",
       "      \n",
       "  <style>\n",
       "    .colab-df-container {\n",
       "      display:flex;\n",
       "      flex-wrap:wrap;\n",
       "      gap: 12px;\n",
       "    }\n",
       "\n",
       "    .colab-df-convert {\n",
       "      background-color: #E8F0FE;\n",
       "      border: none;\n",
       "      border-radius: 50%;\n",
       "      cursor: pointer;\n",
       "      display: none;\n",
       "      fill: #1967D2;\n",
       "      height: 32px;\n",
       "      padding: 0 0 0 0;\n",
       "      width: 32px;\n",
       "    }\n",
       "\n",
       "    .colab-df-convert:hover {\n",
       "      background-color: #E2EBFA;\n",
       "      box-shadow: 0px 1px 2px rgba(60, 64, 67, 0.3), 0px 1px 3px 1px rgba(60, 64, 67, 0.15);\n",
       "      fill: #174EA6;\n",
       "    }\n",
       "\n",
       "    [theme=dark] .colab-df-convert {\n",
       "      background-color: #3B4455;\n",
       "      fill: #D2E3FC;\n",
       "    }\n",
       "\n",
       "    [theme=dark] .colab-df-convert:hover {\n",
       "      background-color: #434B5C;\n",
       "      box-shadow: 0px 1px 3px 1px rgba(0, 0, 0, 0.15);\n",
       "      filter: drop-shadow(0px 1px 2px rgba(0, 0, 0, 0.3));\n",
       "      fill: #FFFFFF;\n",
       "    }\n",
       "  </style>\n",
       "\n",
       "      <script>\n",
       "        const buttonEl =\n",
       "          document.querySelector('#df-c76ca6f7-9f74-4e82-bf8e-9cb3b3000ac3 button.colab-df-convert');\n",
       "        buttonEl.style.display =\n",
       "          google.colab.kernel.accessAllowed ? 'block' : 'none';\n",
       "\n",
       "        async function convertToInteractive(key) {\n",
       "          const element = document.querySelector('#df-c76ca6f7-9f74-4e82-bf8e-9cb3b3000ac3');\n",
       "          const dataTable =\n",
       "            await google.colab.kernel.invokeFunction('convertToInteractive',\n",
       "                                                     [key], {});\n",
       "          if (!dataTable) return;\n",
       "\n",
       "          const docLinkHtml = 'Like what you see? Visit the ' +\n",
       "            '<a target=\"_blank\" href=https://colab.research.google.com/notebooks/data_table.ipynb>data table notebook</a>'\n",
       "            + ' to learn more about interactive tables.';\n",
       "          element.innerHTML = '';\n",
       "          dataTable['output_type'] = 'display_data';\n",
       "          await google.colab.output.renderOutput(dataTable, element);\n",
       "          const docLink = document.createElement('div');\n",
       "          docLink.innerHTML = docLinkHtml;\n",
       "          element.appendChild(docLink);\n",
       "        }\n",
       "      </script>\n",
       "    </div>\n",
       "  </div>\n",
       "  "
      ],
      "text/plain": [
       "   Document_No  Dominant_Topic  Topic_Perc_Contrib  \\\n",
       "0            0             1.0              0.6824   \n",
       "1            1             1.0              0.8778   \n",
       "2            2             3.0              0.9018   \n",
       "3            3             2.0              0.3969   \n",
       "4            4             3.0              0.7548   \n",
       "\n",
       "                                            Keywords  \\\n",
       "0  depression, anxiety, good, help, life, make, t...   \n",
       "1  depression, anxiety, good, help, life, make, t...   \n",
       "2  depression, take, say, cause, save, life, suic...   \n",
       "3  depression, anxiety, much, help, time, work, g...   \n",
       "4  depression, take, say, cause, save, life, suic...   \n",
       "\n",
       "                                                Text  \n",
       "0  Depression isn’t always looking and feeling sa...  \n",
       "1  \"Hehehe now that's some power level I see!... ...  \n",
       "2  How To Stimulate Your Vagus Nerve for Better M...  \n",
       "3  depression as a red flag lmao https//t.co/xc7E...  \n",
       "4  ☏ Houston County Board of Education says menta...  "
      ]
     },
     "execution_count": 72,
     "metadata": {},
     "output_type": "execute_result"
    }
   ],
   "source": [
    "def format_topics_sentences(ldamodel=None, corpus=corpus, texts=data):\n",
    "    # Init output\n",
    "    sent_topics_df = pd.DataFrame()\n",
    "\n",
    "    # Get main topic in each document\n",
    "    for i, row_list in enumerate(ldamodel[corpus]):\n",
    "        row = row_list[0] if ldamodel.per_word_topics else row_list            \n",
    "        # print(row)\n",
    "        row = sorted(row, key=lambda x: (x[1]), reverse=True)\n",
    "        # Get the Dominant topic, Perc Contribution and Keywords for each document\n",
    "        for j, (topic_num, prop_topic) in enumerate(row):\n",
    "            if j == 0:  # => dominant topic\n",
    "                wp = ldamodel.show_topic(topic_num)\n",
    "                topic_keywords = \", \".join([word for word, prop in wp])\n",
    "                sent_topics_df = sent_topics_df.append(pd.Series([int(topic_num), round(prop_topic,4), topic_keywords]), ignore_index=True)\n",
    "            else:\n",
    "                break\n",
    "    sent_topics_df.columns = ['Dominant_Topic', 'Perc_Contribution', 'Topic_Keywords']\n",
    "\n",
    "    # Add original text to the end of the output\n",
    "    contents = pd.Series(texts)\n",
    "    sent_topics_df = pd.concat([sent_topics_df, contents], axis=1)\n",
    "    return(sent_topics_df)\n",
    "\n",
    "\n",
    "df_topic_sents_keywords = format_topics_sentences(ldamodel=lda_model, corpus=corpus, texts=data)\n",
    "\n",
    "# Format\n",
    "df_dominant_topic = df_topic_sents_keywords.reset_index()\n",
    "df_dominant_topic.columns = ['Document_No', 'Dominant_Topic', 'Topic_Perc_Contrib', 'Keywords', 'Text']\n",
    "df_dominant_topic.head(5)"
   ]
  },
  {
   "cell_type": "code",
   "execution_count": 28,
   "metadata": {
    "colab": {
     "base_uri": "https://localhost:8080/",
     "height": 625
    },
    "id": "p_CA1HHBbI6p",
    "outputId": "808353c8-742d-4951-bbbe-565b9b9e3b90"
   },
   "outputs": [
    {
     "data": {
      "image/png": "[encoded data removed]",
      "text/plain": [
       "<Figure size 720x720 with 4 Axes>"
      ]
     },
     "metadata": {
      "needs_background": "light"
     },
     "output_type": "display_data"
    }
   ],
   "source": [
    "from matplotlib import pyplot as plt\n",
    "from wordcloud import WordCloud, STOPWORDS\n",
    "import matplotlib.colors as mcolors\n",
    "\n",
    "cols = [color for name, color in mcolors.TABLEAU_COLORS.items()]  # more colors: 'mcolors.XKCD_COLORS'\n",
    "\n",
    "cloud = WordCloud(stopwords=stop_words,\n",
    "                  background_color='white',\n",
    "                  width=2500,\n",
    "                  height=1800,\n",
    "                  max_words=10,\n",
    "                  colormap='tab10',\n",
    "                  color_func=lambda *args, **kwargs: cols[i],\n",
    "                  prefer_horizontal=1.0)\n",
    "\n",
    "topics = lda_model.show_topics(formatted=False)\n",
    "\n",
    "fig, axes = plt.subplots(2, 2, figsize=(10,10), sharex=True, sharey=True)\n",
    "\n",
    "for i, ax in enumerate(axes.flatten()):\n",
    "    fig.add_subplot(ax)\n",
    "    topic_words = dict(topics[i][1])\n",
    "    cloud.generate_from_frequencies(topic_words, max_font_size=300)\n",
    "    plt.gca().imshow(cloud)\n",
    "    plt.gca().set_title('Topic ' + str(i), fontdict=dict(size=16))\n",
    "    plt.gca().axis('off')\n",
    "\n",
    "plt.subplots_adjust(wspace=0, hspace=0)\n",
    "plt.axis('off')\n",
    "plt.margins(x=0, y=0)\n",
    "plt.tight_layout()\n",
    "plt.show()\n",
    "\n"
   ]
  },
  {
   "cell_type": "code",
   "execution_count": 29,
   "metadata": {
    "colab": {
     "base_uri": "https://localhost:8080/"
    },
    "id": "096NJ4xQmfi0",
    "outputId": "f226ff40-35fe-44ed-c2ac-e28348cb2fc7"
   },
   "outputs": [
    {
     "name": "stdout",
     "output_type": "stream",
     "text": [
      "\n",
      "Perplexity:  -6.959298070888763\n",
      "\n",
      "Coherence Score:  0.4283248261505283\n"
     ]
    }
   ],
   "source": [
    "# Compute Perplexity\n",
    "print('\\nPerplexity: ', lda_model.log_perplexity(corpus))  # a measure of how good the model is. lower the better.\n",
    "\n",
    "# Compute Coherence Score\n",
    "coherence_model_lda = CoherenceModel(model=lda_model, texts=data_lemmatized, dictionary=id2word, coherence='c_v')\n",
    "coherence_lda = coherence_model_lda.get_coherence()\n",
    "print('\\nCoherence Score: ', coherence_lda)"
   ]
  },
  {
   "cell_type": "code",
   "execution_count": 30,
   "metadata": {
    "colab": {
     "base_uri": "https://localhost:8080/",
     "height": 916
    },
    "id": "KPO7yWWlmq_B",
    "outputId": "6b7a2ffd-e806-4809-93f7-ec6d507a01a2"
   },
   "outputs": [
    {
     "name": "stderr",
     "output_type": "stream",
     "text": [
      "/usr/local/lib/python3.7/dist-packages/pyLDAvis/_prepare.py:247: FutureWarning: In a future version of pandas all arguments of DataFrame.drop except for the argument 'labels' will be keyword-only\n",
      "  by='saliency', ascending=False).head(R).drop('saliency', 1)\n"
     ]
    },
    {
     "data": {
      "text/html": [
       "\n",
       "<link rel=\"stylesheet\" type=\"text/css\" href=\"https://cdn.jsdelivr.net/gh/bmabey/pyLDAvis@3.3.1/pyLDAvis/js/ldavis.v1.0.0.css\">\n",
       "\n",
       "\n",
       "<div id=\"ldavis_el61139998968592976514428002\"></div>\n",
       "<script type=\"text/javascript\">\n",
       "\n",
       "var ldavis_el61139998968592976514428002_data = {\"mdsDat\": {\"x\": [0.22592097239925626, -0.09833903644110692, -0.06897226801991331, -0.05860966793823619], \"y\": [-0.01803012540114013, -0.10843859813358218, -0.07931658986061141, 0.20578531339533357], \"topics\": [1, 2, 3, 4], \"cluster\": [1, 1, 1, 1], \"Freq\": [31.098149483312078, 25.74188494187235, 24.079498993851818, 19.080466580963755]}, \"tinfo\": {\"Term\": [\"get\", \"parent\", \"need\", \"make\", \"give\", \"still\", \"help\", \"block\", \"deliver\", \"anytime_message\", \"would\", \"year\", \"depression\", \"take\", \"ask\", \"also\", \"positivity\", \"child\", \"put\", \"suffer\", \"mental\", \"people\", \"watch\", \"away\", \"ptsd\", \"hear\", \"health_issue\", \"sit\", \"veteran\", \"long\", \"get\", \"block\", \"deliver\", \"anytime_message\", \"would\", \"take\", \"long\", \"job\", \"story\", \"time\", \"slow\", \"survive\", \"much\", \"psychedelic\", \"want\", \"traumatic\", \"move_car\", \"tryna\", \"obviously\", \"proper\", \"feel\", \"alcohol\", \"effect\", \"research\", \"fight\", \"high\", \"always\", \"stress\", \"mind\", \"regulation\", \"still\", \"know\", \"help\", \"shit\", \"think\", \"ptsd\", \"veteran\", \"see\", \"go\", \"lot\", \"physical\", \"right\", \"work\", \"make\", \"also\", \"back\", \"call\", \"bad\", \"show\", \"car\", \"claim\", \"support\", \"grow\", \"confuse\", \"stop\", \"practice\", \"forget\", \"event\", \"harm\", \"case\", \"community\", \"teach\", \"ability\", \"step\", \"police\", \"disrepute\", \"escalation\", \"escalation_de\", \"hand\", \"advertise\", \"regard\", \"trademark\", \"transparency\", \"great\", \"people\", \"abuse\", \"week\", \"fake\", \"say\", \"wrong\", \"go\", \"suffer\", \"may\", \"veteran\", \"ptsd\", \"really\", \"think\", \"right\", \"still\", \"life\", \"year\", \"need\", \"watch\", \"hear\", \"away\", \"live\", \"good\", \"depression_suicide\", \"psychological_emotional\", \"day\", \"hate\", \"post\", \"treat\", \"experience\", \"break\", \"disorder\", \"depression\", \"today\", \"therapy\", \"family\", \"love\", \"many\", \"must\", \"actually\", \"date\", \"treatment\", \"honk\", \"movie\", \"ex\", \"intention\", \"bring\", \"year\", \"relationship\", \"find\", \"life\", \"suffer\", \"help\", \"physical\", \"never\", \"see\", \"give\", \"think\", \"parent\", \"ask\", \"positivity\", \"put\", \"health_issue\", \"sit\", \"hit\", \"understand\", \"end\", \"fan\", \"pain\", \"let\", \"war\", \"read\", \"child\", \"rate\", \"ion\", \"realize\", \"fuck\", \"service\", \"provide\", \"chronic\", \"become\", \"cut\", \"flashback\", \"stuff\", \"instead\", \"sorry\", \"slander\", \"cop\", \"give\", \"action\", \"mental\", \"amp\", \"real\", \"care\", \"change\", \"woman\", \"go\", \"think\"], \"Freq\": [49.0, 33.0, 27.0, 27.0, 43.0, 45.0, 55.0, 27.0, 26.0, 24.0, 24.0, 27.0, 18.0, 21.0, 14.0, 18.0, 13.0, 14.0, 12.0, 27.0, 19.0, 33.0, 11.0, 11.0, 43.0, 11.0, 9.0, 9.0, 26.0, 13.0, 48.832026089048384, 26.893454667508053, 25.635261315063307, 24.159040046674725, 24.24401183857132, 20.976969974928075, 13.204334538096276, 11.05292146820298, 10.748708357081433, 11.299221680596837, 10.120277116381843, 9.917956318655701, 10.318638863189701, 10.100840073929271, 10.715905161145537, 9.916772605029335, 8.776414910581135, 8.776414910581135, 7.969837996249824, 6.727790652571258, 7.001538950782167, 6.595713641703517, 6.399881324394965, 6.206891468815156, 6.255197827949152, 6.107532457482722, 5.8555705570133565, 6.219865847941226, 6.19070544355779, 5.257754191066349, 38.97934634892583, 13.249464104171944, 36.28380452214309, 13.482828663076363, 34.28555392683605, 28.330361669588445, 16.344974632920113, 14.902254912781347, 18.642453059059687, 9.105604766475373, 13.42646220810482, 10.321415491336172, 9.313099954682746, 27.204049702241775, 17.39035855001256, 9.893588750214922, 7.694345231155411, 7.32224397171037, 7.3853641853810394, 6.727330949171574, 6.545137413550331, 6.3379939098524005, 5.801672174230825, 5.642802317546539, 5.5404070074471425, 5.212070770163516, 5.297847371333717, 5.103224263821593, 5.139856907528536, 5.035419653574983, 4.86856794414839, 4.936757221997039, 4.759224575487167, 4.716120967897036, 4.846935734139287, 4.590584695971652, 4.590584695971652, 4.590584695971652, 4.5539915875460295, 4.27444509297545, 4.27444509297545, 4.27444509297545, 4.27444509297545, 4.986231886745938, 21.92162322766535, 11.53790811527037, 4.690246729054339, 8.258328841448048, 10.755036885685334, 6.23697485495141, 12.76883803066805, 10.937207982363123, 7.790344908110352, 9.631138593512738, 11.116576348151614, 5.694789075440975, 6.356789196296466, 5.500958810597498, 5.782380025467459, 5.357131594195165, 5.246459519525232, 27.087875860788746, 11.376742061641359, 10.952883858621213, 11.316332250051254, 9.66749692330846, 10.002147229205418, 8.235745207554228, 8.235745207554228, 8.257593650969044, 8.17830646042501, 8.073985365595899, 7.911679287564274, 7.9674128585891095, 8.372971903274545, 7.749861473616466, 17.515906780973935, 7.368019469489542, 7.249092431862467, 7.152714499109277, 8.020149377709497, 8.170736118212474, 7.120733451498582, 6.747548264628428, 5.536131089100442, 5.423989273035263, 5.902685479794473, 4.735819778182431, 4.531070207714429, 4.531070207714429, 4.514473726691449, 22.00491781056156, 8.863672309924505, 8.445639292330114, 14.328692757790348, 15.757233524989292, 18.859601543499586, 9.957821646145037, 7.907110994841487, 8.304348560243785, 8.770047546913121, 7.746016331486597, 32.93262194766254, 13.577377551680918, 12.920444792516298, 11.62342457715321, 8.87642683130461, 8.87642683130461, 5.8262892692100205, 5.750570547150994, 5.740851372044069, 5.616612411595242, 4.761723384215657, 4.385684408586816, 4.05582685994813, 3.839380279868581, 12.412986871764234, 3.6930239886575467, 3.419048429834229, 3.2382219948919997, 3.576215684677218, 3.1785625039013485, 3.3246877256149743, 3.3699409145555577, 3.1151175916155376, 2.924477534136851, 2.8613919972904545, 3.049846299686116, 2.9672047988456978, 2.7519446527237066, 2.585826672404848, 2.578698168509654, 27.467568158019464, 3.6818649357570035, 11.975136508574192, 6.551033302748581, 5.493854909569388, 5.762518443991276, 3.3044672635632817, 3.6382805160744804, 4.474048790047279, 4.539132375135618], \"Total\": [49.0, 33.0, 27.0, 27.0, 43.0, 45.0, 55.0, 27.0, 26.0, 24.0, 24.0, 27.0, 18.0, 21.0, 14.0, 18.0, 13.0, 14.0, 12.0, 27.0, 19.0, 33.0, 11.0, 11.0, 43.0, 11.0, 9.0, 9.0, 26.0, 13.0, 49.41652368903908, 27.47491168603893, 26.21233747084596, 24.73184027548345, 24.87042784358845, 21.602771954795053, 13.795907808834368, 11.639569559227192, 11.336180001070556, 11.917020088949677, 10.706180298758477, 10.49585219375026, 10.925319432718878, 10.698648503934857, 11.368479838143468, 10.520933671021574, 9.351168390845372, 9.351168390845372, 8.552619585584836, 7.321865068425939, 7.6316175064791585, 7.197070424908544, 6.986427650627553, 6.79411687530141, 6.850696924932741, 6.706297245631474, 6.440508955495239, 6.8479577453181095, 6.8450053528513255, 5.842173729762164, 45.18027033501681, 15.926482755711406, 55.528373069465076, 17.10660366408543, 52.927491829754736, 43.55173449723923, 26.382432734860462, 23.6015332506551, 36.110778063431866, 12.156480851963153, 23.760594092884997, 16.21396413146163, 16.36118721994573, 27.803502154979714, 18.066210293976017, 10.507756898580752, 8.297338588393295, 7.938142762657329, 8.019886833596635, 7.320087831662902, 7.132591822273821, 6.929685183964694, 6.3988473999250015, 6.247937338995055, 6.154453633828588, 5.798467254509177, 5.902457245661191, 5.688865675482974, 5.753601352356761, 5.640992056188191, 5.459064066700084, 5.552514177138026, 5.356879061956658, 5.309329372893668, 5.46003593156359, 5.176171770773756, 5.176171770773756, 5.176171770773756, 5.144908270441571, 4.860034143273821, 4.860034143273821, 4.860034143273821, 4.860034143273821, 5.695533031748375, 33.48158186303385, 16.046004155085786, 5.522721146305101, 12.518308727549902, 18.364940243118102, 9.089085225461726, 36.110778063431866, 27.08836183122391, 16.03356084197485, 26.382432734860462, 43.55173449723923, 11.214904786324514, 52.927491829754736, 16.21396413146163, 45.18027033501681, 21.795930093109522, 27.65409419130888, 27.72913360329224, 11.97144858580175, 11.604874510709415, 11.995236854865672, 10.264742653068764, 10.677892700030261, 8.807722686974428, 8.807722686974428, 8.85494771272367, 8.77899257433886, 8.668580839474027, 8.499278381076808, 8.573186250019385, 9.020093527223748, 8.35314924910652, 18.880374099483934, 7.950393737976069, 7.8318461231709, 7.744732489612289, 8.68634180857023, 8.852781922761027, 7.7204628088483345, 7.442554335781167, 6.108754343280659, 6.008333805700822, 6.609956038091488, 5.31475905346198, 5.103049699100258, 5.103049699100258, 5.102007210802894, 27.65409419130888, 11.154056279734505, 11.011245001305788, 21.795930093109522, 27.08836183122391, 55.528373069465076, 23.760594092884997, 16.92424169695204, 23.6015332506551, 43.316411743812175, 52.927491829754736, 33.53472764756646, 14.199756123307983, 13.515859418874028, 12.240486699840698, 9.47182633018729, 9.47182633018729, 6.423610113277693, 6.364245941781779, 6.363715006151307, 6.2535641048238615, 5.392098687014182, 5.016770507940439, 4.671869396058909, 4.439006802608583, 14.528816164733218, 4.329630908033493, 4.014442201420298, 3.8418683607642143, 4.252718509113696, 3.7816733476468354, 3.956022650155018, 4.017808131812246, 3.7151910595695714, 3.527704979041004, 3.4673004143774198, 3.705664952969718, 3.6121566884503364, 3.3561731383964215, 3.1834728440692324, 3.184368362191571, 43.316411743812175, 4.801778038050525, 19.675270708551448, 9.670184221697854, 8.346889781506697, 9.70185512923521, 4.4522090451875656, 5.783202623927712, 36.110778063431866, 52.927491829754736], \"Category\": [\"Default\", \"Default\", \"Default\", \"Default\", \"Default\", \"Default\", \"Default\", \"Default\", \"Default\", \"Default\", \"Default\", \"Default\", \"Default\", \"Default\", \"Default\", \"Default\", \"Default\", \"Default\", \"Default\", \"Default\", \"Default\", \"Default\", \"Default\", \"Default\", \"Default\", \"Default\", \"Default\", \"Default\", \"Default\", \"Default\", \"Topic1\", \"Topic1\", \"Topic1\", \"Topic1\", \"Topic1\", \"Topic1\", \"Topic1\", \"Topic1\", \"Topic1\", \"Topic1\", \"Topic1\", \"Topic1\", \"Topic1\", \"Topic1\", \"Topic1\", \"Topic1\", \"Topic1\", \"Topic1\", \"Topic1\", \"Topic1\", \"Topic1\", \"Topic1\", \"Topic1\", \"Topic1\", \"Topic1\", \"Topic1\", \"Topic1\", \"Topic1\", \"Topic1\", \"Topic1\", \"Topic1\", \"Topic1\", \"Topic1\", \"Topic1\", \"Topic1\", \"Topic1\", \"Topic1\", \"Topic1\", \"Topic1\", \"Topic1\", \"Topic1\", \"Topic1\", \"Topic1\", \"Topic2\", \"Topic2\", \"Topic2\", \"Topic2\", \"Topic2\", \"Topic2\", \"Topic2\", \"Topic2\", \"Topic2\", \"Topic2\", \"Topic2\", \"Topic2\", \"Topic2\", \"Topic2\", \"Topic2\", \"Topic2\", \"Topic2\", \"Topic2\", \"Topic2\", \"Topic2\", \"Topic2\", \"Topic2\", \"Topic2\", \"Topic2\", \"Topic2\", \"Topic2\", \"Topic2\", \"Topic2\", \"Topic2\", \"Topic2\", \"Topic2\", \"Topic2\", \"Topic2\", \"Topic2\", \"Topic2\", \"Topic2\", \"Topic2\", \"Topic2\", \"Topic2\", \"Topic2\", \"Topic2\", \"Topic2\", \"Topic2\", \"Topic2\", \"Topic2\", \"Topic2\", \"Topic2\", \"Topic2\", \"Topic3\", \"Topic3\", \"Topic3\", \"Topic3\", \"Topic3\", \"Topic3\", \"Topic3\", \"Topic3\", \"Topic3\", \"Topic3\", \"Topic3\", \"Topic3\", \"Topic3\", \"Topic3\", \"Topic3\", \"Topic3\", \"Topic3\", \"Topic3\", \"Topic3\", \"Topic3\", \"Topic3\", \"Topic3\", \"Topic3\", \"Topic3\", \"Topic3\", \"Topic3\", \"Topic3\", \"Topic3\", \"Topic3\", \"Topic3\", \"Topic3\", \"Topic3\", \"Topic3\", \"Topic3\", \"Topic3\", \"Topic3\", \"Topic3\", \"Topic3\", \"Topic3\", \"Topic3\", \"Topic3\", \"Topic4\", \"Topic4\", \"Topic4\", \"Topic4\", \"Topic4\", \"Topic4\", \"Topic4\", \"Topic4\", \"Topic4\", \"Topic4\", \"Topic4\", \"Topic4\", \"Topic4\", \"Topic4\", \"Topic4\", \"Topic4\", \"Topic4\", \"Topic4\", \"Topic4\", \"Topic4\", \"Topic4\", \"Topic4\", \"Topic4\", \"Topic4\", \"Topic4\", \"Topic4\", \"Topic4\", \"Topic4\", \"Topic4\", \"Topic4\", \"Topic4\", \"Topic4\", \"Topic4\", \"Topic4\", \"Topic4\", \"Topic4\", \"Topic4\", \"Topic4\", \"Topic4\", \"Topic4\"], \"logprob\": [30.0, 29.0, 28.0, 27.0, 26.0, 25.0, 24.0, 23.0, 22.0, 21.0, 20.0, 19.0, 18.0, 17.0, 16.0, 15.0, 14.0, 13.0, 12.0, 11.0, 10.0, 9.0, 8.0, 7.0, 6.0, 5.0, 4.0, 3.0, 2.0, 1.0, -3.3458, -3.9423, -3.9902, -4.0496, -4.046, -4.1908, -4.6537, -4.8315, -4.8594, -4.8095, -4.9197, -4.9399, -4.9003, -4.9216, -4.8625, -4.94, -5.0621, -5.0621, -5.1585, -5.328, -5.2881, -5.3478, -5.3779, -5.4085, -5.4008, -5.4247, -5.4668, -5.4065, -5.4112, -5.5745, -3.5712, -4.6503, -3.6428, -4.6328, -3.6995, -3.8903, -4.4403, -4.5327, -4.3088, -5.0253, -4.637, -4.9, -5.0028, -3.7418, -4.1893, -4.7533, -5.0047, -5.0543, -5.0457, -5.139, -5.1665, -5.1986, -5.287, -5.3148, -5.3331, -5.3942, -5.3779, -5.4153, -5.4082, -5.4287, -5.4624, -5.4485, -5.4851, -5.4942, -5.4668, -5.5212, -5.5212, -5.5212, -5.5292, -5.5925, -5.5925, -5.5925, -5.5925, -5.4385, -3.9577, -4.5995, -5.4997, -4.934, -4.6698, -5.2147, -4.4982, -4.653, -4.9923, -4.7802, -4.6367, -5.3056, -5.1957, -5.3403, -5.2904, -5.3668, -5.3876, -3.6793, -4.5469, -4.5848, -4.5522, -4.7097, -4.6756, -4.8699, -4.8699, -4.8673, -4.8769, -4.8898, -4.9101, -4.9031, -4.8534, -4.9307, -4.1153, -4.9813, -4.9975, -5.0109, -4.8965, -4.8779, -5.0154, -5.0692, -5.2671, -5.2876, -5.203, -5.4233, -5.4675, -5.4675, -5.4711, -3.8872, -4.7965, -4.8448, -4.3162, -4.2211, -4.0414, -4.6801, -4.9107, -4.8616, -4.8071, -4.9312, -3.2513, -4.1373, -4.1869, -4.2927, -4.5623, -4.5623, -4.9833, -4.9964, -4.9981, -5.02, -5.1851, -5.2674, -5.3456, -5.4004, -4.227, -5.4393, -5.5164, -5.5707, -5.4714, -5.5893, -5.5444, -5.5308, -5.6095, -5.6726, -5.6944, -5.6306, -5.6581, -5.7334, -5.7957, -5.7984, -3.4327, -5.4423, -4.2629, -4.8661, -5.0421, -4.9944, -5.5505, -5.4542, -5.2474, -5.233], \"loglift\": [30.0, 29.0, 28.0, 27.0, 26.0, 25.0, 24.0, 23.0, 22.0, 21.0, 20.0, 19.0, 18.0, 17.0, 16.0, 15.0, 14.0, 13.0, 12.0, 11.0, 10.0, 9.0, 8.0, 7.0, 6.0, 5.0, 4.0, 3.0, 2.0, 1.0, 1.1561, 1.1466, 1.1458, 1.1446, 1.1425, 1.1386, 1.1242, 1.1163, 1.1148, 1.1148, 1.1117, 1.1114, 1.1109, 1.1105, 1.1089, 1.1089, 1.1046, 1.1046, 1.0974, 1.0834, 1.0819, 1.0808, 1.0803, 1.0776, 1.0771, 1.0745, 1.0728, 1.0718, 1.0676, 1.0626, 1.0204, 0.984, 0.7425, 0.93, 0.7338, 0.738, 0.6892, 0.7082, 0.5069, 0.879, 0.5972, 0.7164, 0.6045, 1.3353, 1.3189, 1.2968, 1.2816, 1.2763, 1.2746, 1.2726, 1.2711, 1.2678, 1.2591, 1.2552, 1.2519, 1.2504, 1.249, 1.2484, 1.2442, 1.2435, 1.2426, 1.2395, 1.2388, 1.2386, 1.2379, 1.237, 1.237, 1.237, 1.235, 1.2287, 1.2287, 1.2287, 1.2287, 1.224, 0.9335, 1.0272, 1.1937, 0.9411, 0.822, 0.9805, 0.3175, 0.4501, 0.6353, 0.3494, -0.0085, 0.6794, -0.7623, 0.2761, -0.6988, -0.0462, -0.3052, 1.4004, 1.3729, 1.366, 1.3655, 1.3639, 1.3584, 1.3567, 1.3567, 1.354, 1.3529, 1.3528, 1.3522, 1.3505, 1.3494, 1.3488, 1.3488, 1.3477, 1.3465, 1.3443, 1.344, 1.3436, 1.3429, 1.3258, 1.3254, 1.3215, 1.3106, 1.3085, 1.3049, 1.3049, 1.3015, 1.1953, 1.194, 1.1585, 1.0044, 0.882, 0.3439, 0.5541, 0.6628, 0.3793, -0.1734, -0.4979, 1.6384, 1.6117, 1.6115, 1.6048, 1.5916, 1.5916, 1.5589, 1.5551, 1.5535, 1.5491, 1.5322, 1.5221, 1.5151, 1.5114, 1.4991, 1.4975, 1.496, 1.4856, 1.4833, 1.4828, 1.4826, 1.4807, 1.4803, 1.469, 1.4644, 1.4617, 1.4598, 1.458, 1.4486, 1.4455, 1.201, 1.3909, 1.16, 1.2671, 1.2382, 1.1356, 1.3584, 1.1931, -0.4318, -0.7997]}, \"token.table\": {\"Topic\": [2, 2, 3, 1, 4, 3, 2, 1, 2, 1, 2, 4, 1, 4, 3, 2, 2, 4, 1, 3, 3, 2, 2, 1, 4, 2, 2, 4, 1, 4, 4, 2, 2, 2, 4, 4, 3, 3, 1, 1, 3, 3, 3, 2, 1, 4, 2, 2, 2, 3, 3, 2, 3, 3, 4, 1, 1, 2, 3, 4, 2, 4, 1, 1, 3, 4, 1, 2, 4, 3, 2, 2, 2, 2, 3, 4, 3, 1, 3, 1, 4, 3, 4, 3, 4, 1, 1, 4, 4, 2, 3, 4, 3, 1, 1, 2, 3, 2, 3, 1, 2, 3, 1, 4, 1, 1, 3, 1, 3, 3, 1, 3, 1, 4, 4, 1, 2, 3, 1, 3, 2, 4, 3, 2, 1, 4, 1, 3, 1, 2, 3, 4, 4, 4, 1, 4, 4, 2, 3, 2, 1, 1, 3, 1, 1, 2, 2, 3, 1, 3, 4, 1, 3, 2, 4, 4, 1, 4, 2, 1, 2, 2, 1, 1, 4, 2, 3, 2, 1, 1, 2, 3, 1, 2, 3, 4, 1, 3, 2, 2, 1, 3, 3, 1, 4, 1, 2, 1, 4, 3, 2, 2, 3, 4, 1, 3, 1, 2, 3, 2, 3], \"Freq\": [0.9333792945800976, 0.7478497377926078, 0.24928324593086926, 0.20825619011868993, 0.8330247604747597, 0.9405373053638961, 0.8230394853369314, 0.9726179663010526, 0.9409831792818479, 0.9316033936853106, 0.31023193883614264, 0.7238745239509995, 0.9704089842352362, 0.9859324257703204, 0.9170306625115143, 0.951677898196395, 0.8818183559168843, 0.8074954832464442, 0.9827147147380914, 0.8869087638454102, 0.9800064549914972, 0.9641645829893906, 0.9562726788224633, 0.4122922829414911, 0.6184384244122367, 0.8863689135167244, 0.2246076026194029, 0.6738228078582087, 0.1376574648149748, 0.8259447888898488, 0.7466757748451367, 0.9814104289748139, 0.9159079173478942, 0.9603169293252012, 0.9421020619408856, 0.8504112497569286, 0.9821969689450217, 0.9034497164229219, 0.9918993309512314, 0.05296505221405192, 0.9533709398529345, 0.908293810366106, 0.9577226219028357, 0.9659648522932575, 0.8588080060431246, 0.942845491069331, 0.9659648522932575, 0.9659648522932575, 0.8789098363753349, 0.9798062521087287, 0.9331419809037639, 0.6390639641594595, 0.31953198207972977, 0.9038401273883675, 0.959452865506205, 0.9172367449046126, 0.8758233017378603, 0.1816325038415571, 0.7265300153662284, 0.8652264417470942, 0.8471048229405518, 0.9405748326459621, 0.9915711657165502, 0.16160156666254707, 0.20777344285184624, 0.6233203285555386, 0.5261586988412371, 0.3600033202597938, 0.11077025238762887, 0.9365143742240133, 0.8778809590127397, 0.937668868313741, 0.9718346250653106, 0.8690209303346894, 0.9112662907796656, 0.9501863406549643, 0.9478775483396038, 0.6483172117246186, 0.34216741729910427, 0.8946814881950602, 0.9340541991485309, 0.9077216195423288, 0.8305287557409478, 0.9798062521087287, 0.7473018291155391, 0.9450521296365141, 0.8162505306036929, 0.12557700470826044, 0.7973256886415043, 0.22940062565078057, 0.6423217518221855, 0.09176025026031222, 0.9742085445279414, 0.9423084134902163, 0.7403458377139293, 0.24678194590464306, 0.9209860924545863, 0.9711006854280116, 0.9036707409940288, 0.43658424157872916, 0.49895341894711903, 0.06236917736838988, 0.3557765534050617, 0.6099026629801058, 0.87655154243242, 0.9624465760675255, 0.9407764208507347, 0.9153050454572748, 0.9066813963506669, 0.973705142983419, 0.5317815805963613, 0.47269473830787667, 0.935385927077096, 0.9272827316832173, 0.9840545105006908, 0.11946866836707905, 0.6570776760189347, 0.20907016964238834, 0.547124366890001, 0.420864897607693, 0.9157448893505999, 0.9618330286749163, 0.9228730917026791, 0.8622968416544478, 0.9560405626957102, 0.758337417477234, 0.9346974990646808, 0.908293810366106, 0.642913544620707, 0.2525731782438492, 0.09184479208867244, 0.9803531750217229, 0.9238662798203253, 0.9011024713116905, 0.23961020839536953, 0.5990255209884238, 0.7808700658872257, 0.535002312932377, 0.4458352607769808, 0.8230394853369314, 0.8558458257631361, 0.1793069668864541, 0.8068813509890433, 0.8831169834319077, 0.6167523203407097, 0.37005139220442584, 0.5989673723072435, 0.3811610551046095, 0.6355519296435392, 0.3389610291432209, 0.7932996121589309, 0.7599404449460025, 0.17537087191061598, 0.8728302712048055, 0.9501863406549643, 0.9423670773849886, 0.9340399396374477, 0.8938752192723285, 0.9417385226705047, 0.8632086464027461, 0.1328013302158071, 0.9749037618904759, 0.9703445074938112, 0.8761736306130319, 0.8095713017972123, 0.40607845053666713, 0.5906595644169703, 0.865840199188848, 0.9527573193108118, 0.9720974717477745, 0.9004929731808784, 0.8937867125977051, 0.642388271663497, 0.11336263617591122, 0.15115018156788163, 0.09446886347992602, 0.9230495474451701, 0.880459538319921, 0.8230394853369314, 0.8230394853369314, 0.9504859846748761, 0.9412563798135587, 0.8321774657819285, 0.9624465760675255, 0.942766834419381, 0.6064641635135632, 0.37904010219597706, 0.9675875892476717, 0.8561883179727404, 0.9188528790948576, 0.9053507985542923, 0.17291457087506323, 0.17291457087506323, 0.6916582835002529, 0.5500823307631494, 0.4278418128157829, 0.9650014929754076, 0.66013243920212, 0.22004414640070666, 0.1808050542321288, 0.7955422386213667], \"Term\": [\"ability\", \"abuse\", \"abuse\", \"action\", \"action\", \"actually\", \"advertise\", \"alcohol\", \"also\", \"always\", \"amp\", \"amp\", \"anytime_message\", \"ask\", \"away\", \"back\", \"bad\", \"become\", \"block\", \"break\", \"bring\", \"call\", \"car\", \"care\", \"care\", \"case\", \"change\", \"change\", \"child\", \"child\", \"chronic\", \"claim\", \"community\", \"confuse\", \"cop\", \"cut\", \"date\", \"day\", \"deliver\", \"depression\", \"depression\", \"depression_suicide\", \"disorder\", \"disrepute\", \"effect\", \"end\", \"escalation\", \"escalation_de\", \"event\", \"ex\", \"experience\", \"fake\", \"fake\", \"family\", \"fan\", \"feel\", \"fight\", \"find\", \"find\", \"flashback\", \"forget\", \"fuck\", \"get\", \"give\", \"give\", \"give\", \"go\", \"go\", \"go\", \"good\", \"great\", \"grow\", \"hand\", \"harm\", \"hate\", \"health_issue\", \"hear\", \"help\", \"help\", \"high\", \"hit\", \"honk\", \"instead\", \"intention\", \"ion\", \"job\", \"know\", \"know\", \"let\", \"life\", \"life\", \"life\", \"live\", \"long\", \"lot\", \"lot\", \"love\", \"make\", \"many\", \"may\", \"may\", \"may\", \"mental\", \"mental\", \"mind\", \"move_car\", \"movie\", \"much\", \"must\", \"need\", \"never\", \"never\", \"obviously\", \"pain\", \"parent\", \"people\", \"people\", \"people\", \"physical\", \"physical\", \"police\", \"positivity\", \"post\", \"practice\", \"proper\", \"provide\", \"psychedelic\", \"psychological_emotional\", \"ptsd\", \"ptsd\", \"ptsd\", \"put\", \"rate\", \"read\", \"real\", \"real\", \"realize\", \"really\", \"really\", \"regard\", \"regulation\", \"relationship\", \"relationship\", \"research\", \"right\", \"right\", \"say\", \"say\", \"see\", \"see\", \"service\", \"shit\", \"shit\", \"show\", \"sit\", \"slander\", \"slow\", \"sorry\", \"step\", \"still\", \"still\", \"stop\", \"story\", \"stress\", \"stuff\", \"suffer\", \"suffer\", \"support\", \"survive\", \"take\", \"teach\", \"therapy\", \"think\", \"think\", \"think\", \"think\", \"time\", \"today\", \"trademark\", \"transparency\", \"traumatic\", \"treat\", \"treatment\", \"tryna\", \"understand\", \"veteran\", \"veteran\", \"want\", \"war\", \"watch\", \"week\", \"woman\", \"woman\", \"woman\", \"work\", \"work\", \"would\", \"wrong\", \"wrong\", \"year\", \"year\"]}, \"R\": 30, \"lambda.step\": 0.01, \"plot.opts\": {\"xlab\": \"PC1\", \"ylab\": \"PC2\"}, \"topic.order\": [3, 4, 2, 1]};\n",
       "\n",
       "function LDAvis_load_lib(url, callback){\n",
       "  var s = document.createElement('script');\n",
       "  s.src = url;\n",
       "  s.async = true;\n",
       "  s.onreadystatechange = s.onload = callback;\n",
       "  s.onerror = function(){console.warn(\"failed to load library \" + url);};\n",
       "  document.getElementsByTagName(\"head\")[0].appendChild(s);\n",
       "}\n",
       "\n",
       "if(typeof(LDAvis) !== \"undefined\"){\n",
       "   // already loaded: just create the visualization\n",
       "   !function(LDAvis){\n",
       "       new LDAvis(\"#\" + \"ldavis_el61139998968592976514428002\", ldavis_el61139998968592976514428002_data);\n",
       "   }(LDAvis);\n",
       "}else if(typeof define === \"function\" && define.amd){\n",
       "   // require.js is available: use it to load d3/LDAvis\n",
       "   require.config({paths: {d3: \"https://d3js.org/d3.v5\"}});\n",
       "   require([\"d3\"], function(d3){\n",
       "      window.d3 = d3;\n",
       "      LDAvis_load_lib(\"https://cdn.jsdelivr.net/gh/bmabey/pyLDAvis@3.3.1/pyLDAvis/js/ldavis.v3.0.0.js\", function(){\n",
       "        new LDAvis(\"#\" + \"ldavis_el61139998968592976514428002\", ldavis_el61139998968592976514428002_data);\n",
       "      });\n",
       "    });\n",
       "}else{\n",
       "    // require.js not available: dynamically load d3 & LDAvis\n",
       "    LDAvis_load_lib(\"https://d3js.org/d3.v5.js\", function(){\n",
       "         LDAvis_load_lib(\"https://cdn.jsdelivr.net/gh/bmabey/pyLDAvis@3.3.1/pyLDAvis/js/ldavis.v3.0.0.js\", function(){\n",
       "                 new LDAvis(\"#\" + \"ldavis_el61139998968592976514428002\", ldavis_el61139998968592976514428002_data);\n",
       "            })\n",
       "         });\n",
       "}\n",
       "</script>"
      ],
      "text/plain": [
       "PreparedData(topic_coordinates=              x         y  topics  cluster       Freq\n",
       "topic                                                \n",
       "2      0.225921 -0.018030       1        1  31.098149\n",
       "3     -0.098339 -0.108439       2        1  25.741885\n",
       "1     -0.068972 -0.079317       3        1  24.079499\n",
       "0     -0.058610  0.205785       4        1  19.080467, topic_info=       Term       Freq      Total Category  logprob  loglift\n",
       "144     get  49.000000  49.000000  Default  30.0000  30.0000\n",
       "64   parent  33.000000  33.000000  Default  29.0000  29.0000\n",
       "277    need  27.000000  27.000000  Default  28.0000  28.0000\n",
       "47     make  27.000000  27.000000  Default  27.0000  27.0000\n",
       "36     give  43.000000  43.000000  Default  26.0000  26.0000\n",
       "..      ...        ...        ...      ...      ...      ...\n",
       "406    care   5.762518   9.701855   Topic4  -4.9944   1.1356\n",
       "151  change   3.304467   4.452209   Topic4  -5.5505   1.3584\n",
       "292   woman   3.638281   5.783203   Topic4  -5.4542   1.1931\n",
       "132      go   4.474049  36.110778   Topic4  -5.2474  -0.4318\n",
       "110   think   4.539132  52.927492   Topic4  -5.2330  -0.7997\n",
       "\n",
       "[202 rows x 6 columns], token_table=      Topic      Freq     Term\n",
       "term                          \n",
       "464       2  0.933379  ability\n",
       "85        2  0.747850    abuse\n",
       "85        3  0.249283    abuse\n",
       "388       1  0.208256   action\n",
       "388       4  0.833025   action\n",
       "...     ...       ...      ...\n",
       "141       1  0.965001    would\n",
       "228       2  0.660132    wrong\n",
       "228       3  0.220044    wrong\n",
       "79        2  0.180805     year\n",
       "79        3  0.795542     year\n",
       "\n",
       "[201 rows x 3 columns], R=30, lambda_step=0.01, plot_opts={'xlab': 'PC1', 'ylab': 'PC2'}, topic_order=[3, 4, 2, 1])"
      ]
     },
     "execution_count": 30,
     "metadata": {},
     "output_type": "execute_result"
    }
   ],
   "source": [
    "# Visualize the topics\n",
    "pyLDAvis.enable_notebook()\n",
    "vis = pyLDAvis.gensim_models.prepare(lda_model, corpus, id2word)\n",
    "vis"
   ]
  },
  {
   "cell_type": "code",
   "execution_count": 33,
   "metadata": {
    "id": "sC364DVpK1Oz"
   },
   "outputs": [],
   "source": [
    "df=pd.read_csv('/content/Depression.csv')"
   ]
  },
  {
   "cell_type": "code",
   "execution_count": 34,
   "metadata": {
    "id": "zc1Y8MBpK1Re"
   },
   "outputs": [],
   "source": [
    "df['text']=df['text'].apply(cleanText)"
   ]
  },
  {
   "cell_type": "code",
   "execution_count": 38,
   "metadata": {
    "colab": {
     "base_uri": "https://localhost:8080/"
    },
    "id": "L2aAOe4Jfe2e",
    "outputId": "e5ce25e2-5b80-46d7-9633-31f6ab194676"
   },
   "outputs": [
    {
     "name": "stdout",
     "output_type": "stream",
     "text": [
      "['dad', 'traumatic', 'part', 'delighted', 'work', 'important', 'session', 'dad', 'traumatic', 'th', 'https_co', 'seh']\n"
     ]
    },
    {
     "name": "stderr",
     "output_type": "stream",
     "text": [
      "/usr/local/lib/python3.7/dist-packages/gensim/models/phrases.py:598: UserWarning: For a faster implementation, use the gensim.models.phrases.Phraser class\n",
      "  warnings.warn(\"For a faster implementation, use the gensim.models.phrases.Phraser class\")\n"
     ]
    }
   ],
   "source": [
    "bigram = gensim.models.Phrases(data_words, min_count=5, threshold=100) # higher threshold fewer phrases.\n",
    "trigram = gensim.models.Phrases(bigram[data_words], threshold=100)  \n",
    "\n",
    "# Faster way to get a sentence clubbed as a trigram/bigram\n",
    "bigram_mod = gensim.models.phrases.Phraser(bigram)\n",
    "trigram_mod = gensim.models.phrases.Phraser(trigram)\n",
    "\n",
    "def make_bigrams(text):\n",
    "  return(bigram[doc] for doc in text)\n",
    "def make_trigrams(text):\n",
    "  return(trigram[bigram[doc]] for doc in text)\n",
    "\n",
    "data_bigrams=make_bigrams(data_words)\n",
    "data_bigrams_trigrams=make_trigrams(data_words)\n",
    "#print(data_bigrams_trigrams[0][0:20])\n",
    "print(trigram_mod[bigram_mod[data_words[0]]])"
   ]
  },
  {
   "cell_type": "code",
   "execution_count": 39,
   "metadata": {
    "colab": {
     "base_uri": "https://localhost:8080/"
    },
    "id": "K91DXBscfe7-",
    "outputId": "8c3d37ba-ba36-4f0e-efeb-f9df5a18aa73"
   },
   "outputs": [
    {
     "name": "stderr",
     "output_type": "stream",
     "text": [
      "/usr/local/lib/python3.7/dist-packages/gensim/models/phrases.py:598: UserWarning: For a faster implementation, use the gensim.models.phrases.Phraser class\n",
      "  warnings.warn(\"For a faster implementation, use the gensim.models.phrases.Phraser class\")\n"
     ]
    }
   ],
   "source": [
    "#tf-idf removal\n",
    "from gensim.models import TfidfModel\n",
    "id2word=corpora.Dictionary(data_bigrams_trigrams)\n",
    "texts=data_bigrams_trigrams\n",
    "corpus=[id2word.doc2bow(text) for text in texts]\n",
    "#print(corpus[0][0:20])\n",
    "\n",
    "tfidf=TfidfModel(corpus,id2word=id2word)\n",
    "\n",
    "low_value=0.03\n",
    "words_missing_in_tfidf=[]\n",
    "for i in range(0,len(corpus)):\n",
    "  bow=corpus[i]\n",
    "  low_value_words=[]\n",
    "  tfidf_ids=[id for id,vlaue in tfidf[bow]]\n",
    "  bow_ids=[id for id,vlue in bow]\n",
    "  low_value_words=[id for id,value in tfidf[bow] if value < low_value]\n",
    "  drops=low_value_words+words_missing_in_tfidf\n",
    "  for item in drops:\n",
    "    words_missing_in_tfidf=[id for id in bow_ids if id not in tfidf_ids]\n",
    "    new_bow=[b for b in bow if b[0] not in low_value_words and b[0] not in words_missing_in_tfidf]\n",
    "    corpus[i]=new_bow"
   ]
  },
  {
   "cell_type": "code",
   "execution_count": 41,
   "metadata": {
    "colab": {
     "base_uri": "https://localhost:8080/"
    },
    "id": "BA2LjVEmM8yI",
    "outputId": "24b95252-36ff-472b-a29c-8d77d917ece2"
   },
   "outputs": [
    {
     "name": "stdout",
     "output_type": "stream",
     "text": [
      "Depression isn’t always looking and feeling sad. Sometimes it’s lack of motivation, excess\n"
     ]
    }
   ],
   "source": [
    "data=df['text']\n",
    "print (data[0][0:90])"
   ]
  },
  {
   "cell_type": "code",
   "execution_count": 42,
   "metadata": {
    "colab": {
     "base_uri": "https://localhost:8080/"
    },
    "id": "nhKF0aIwM803",
    "outputId": "39c43ee1-e21b-4a88-ddd1-f1f3b0144f2b"
   },
   "outputs": [
    {
     "name": "stdout",
     "output_type": "stream",
     "text": [
      "depression always look feel sad sometimes ’ lack motivation excessive sleeping bad eating \n"
     ]
    }
   ],
   "source": [
    "def lemmatization(texts, allowed_postags=[\"NOUN\", \"ADJ\", \"VERB\", \"ADV\"]):\n",
    "    nlp = spacy.load(\"en_core_web_sm\", disable=[\"parser\", \"ner\"])\n",
    "    texts_out = []\n",
    "    for text in texts:\n",
    "        doc = nlp(text)\n",
    "        new_text = []\n",
    "        for token in doc:\n",
    "            if token.pos_ in allowed_postags:\n",
    "                new_text.append(token.lemma_)\n",
    "        final = \" \".join(new_text)\n",
    "        texts_out.append(final)\n",
    "    return (texts_out)\n",
    "\n",
    "\n",
    "lemmatized_texts = lemmatization(data)\n",
    "print (lemmatized_texts[0][0:90])"
   ]
  },
  {
   "cell_type": "code",
   "execution_count": 43,
   "metadata": {
    "colab": {
     "base_uri": "https://localhost:8080/"
    },
    "id": "s0-nGPAJM83V",
    "outputId": "277f14ff-ca26-497e-dd3e-ce2d97978266"
   },
   "outputs": [
    {
     "name": "stdout",
     "output_type": "stream",
     "text": [
      "['depression', 'always', 'look', 'feel', 'sad', 'sometimes', 'lack', 'motivation', 'excessive', 'sleeping', 'bad', 'eating', 'habit', 'unexplainable', 'anger', 'easily', 'irritated', 'low', 'self', 'esteem']\n"
     ]
    }
   ],
   "source": [
    "data_words = gen_words(lemmatized_texts)\n",
    "\n",
    "print (data_words[0][0:20])"
   ]
  },
  {
   "cell_type": "code",
   "execution_count": 44,
   "metadata": {
    "colab": {
     "base_uri": "https://localhost:8080/"
    },
    "id": "kDxvW1ylN7Vt",
    "outputId": "76dbf79e-147d-4d52-807b-e9ea7cbf5ff7"
   },
   "outputs": [
    {
     "name": "stdout",
     "output_type": "stream",
     "text": [
      "['depression', 'always', 'look', 'feel', 'sad', 'sometimes', 'lack', 'motivation', 'excessive', 'sleeping', 'bad', 'eating', 'habit', 'unexplainable', 'anger', 'easily', 'irritated', 'low', 'self', 'esteem', 'strive', 'normally']\n"
     ]
    },
    {
     "name": "stderr",
     "output_type": "stream",
     "text": [
      "/usr/local/lib/python3.7/dist-packages/gensim/models/phrases.py:598: UserWarning: For a faster implementation, use the gensim.models.phrases.Phraser class\n",
      "  warnings.warn(\"For a faster implementation, use the gensim.models.phrases.Phraser class\")\n"
     ]
    }
   ],
   "source": [
    "# Build the bigram and trigram models\n",
    "bigram = gensim.models.Phrases(data_words, min_count=5, threshold=100) # higher threshold fewer phrases.\n",
    "trigram = gensim.models.Phrases(bigram[data_words], threshold=100)  \n",
    "\n",
    "# Faster way to get a sentence clubbed as a trigram/bigram\n",
    "bigram_mod = gensim.models.phrases.Phraser(bigram)\n",
    "trigram_mod = gensim.models.phrases.Phraser(trigram)\n",
    "\n",
    "# See trigram example\n",
    "print(trigram_mod[bigram_mod[data_words[0]]])\n"
   ]
  },
  {
   "cell_type": "code",
   "execution_count": 45,
   "metadata": {
    "id": "RpWTvj-hN7YR"
   },
   "outputs": [],
   "source": [
    "# Define functions for stopwords, bigrams, trigrams and lemmatization\n",
    "def remove_stopwords(texts):\n",
    "    return [[word for word in simple_preprocess(str(doc)) if word not in stop_words] for doc in texts]\n",
    "\n",
    "def make_bigrams(texts):\n",
    "    return [bigram_mod[doc] for doc in texts]\n",
    "\n",
    "def make_trigrams(texts):\n",
    "    return [trigram_mod[bigram_mod[doc]] for doc in texts]\n",
    "\n",
    "def lemmatization(texts, allowed_postags=['NOUN', 'ADJ', 'VERB', 'ADV']):\n",
    "    \"\"\"https://spacy.io/api/annotation\"\"\"\n",
    "    texts_out = []\n",
    "    for sent in texts:\n",
    "        doc = nlp(\" \".join(sent)) \n",
    "        texts_out.append([token.lemma_ for token in doc if token.pos_ in allowed_postags])\n",
    "    return texts_out"
   ]
  },
  {
   "cell_type": "code",
   "execution_count": 46,
   "metadata": {
    "colab": {
     "base_uri": "https://localhost:8080/"
    },
    "id": "1xay_t5GN7bm",
    "outputId": "789e5c17-7c3b-4171-d487-66a488a576a5"
   },
   "outputs": [
    {
     "name": "stdout",
     "output_type": "stream",
     "text": [
      "[['depression', 'always', 'look', 'feel', 'sad', 'sometimes', 'lack', 'motivation', 'excessive', 'sleep', 'bad', 'eat', 'habit', 'unexplainable', 'anger', 'easily', 'irritated', 'low', 'self', 'esteem', 'strive', 'normally']]\n"
     ]
    }
   ],
   "source": [
    "# Remove Stop Words\n",
    "data_words_nostops = remove_stopwords(data_words)\n",
    "\n",
    "# Form Bigrams\n",
    "data_words_bigrams = make_bigrams(data_words_nostops)\n",
    "\n",
    "# Initialize spacy 'en' model, keeping only tagger component (for efficiency)\n",
    "# python3 -m spacy download en\n",
    "nlp = spacy.load('en', disable=['parser', 'ner'])\n",
    "\n",
    "# Do lemmatization keeping only noun, adj, vb, adv\n",
    "data_lemmatized = lemmatization(data_words_bigrams, allowed_postags=['NOUN', 'ADJ', 'VERB', 'ADV'])\n",
    "\n",
    "print(data_lemmatized[:1])"
   ]
  },
  {
   "cell_type": "code",
   "execution_count": 47,
   "metadata": {
    "colab": {
     "base_uri": "https://localhost:8080/"
    },
    "id": "7yX-m9L1N7d7",
    "outputId": "41545308-04be-446b-bf62-8964ecea4607"
   },
   "outputs": [
    {
     "name": "stdout",
     "output_type": "stream",
     "text": [
      "[[(0, 1), (1, 1), (2, 1), (3, 1), (4, 1), (5, 1), (6, 1), (7, 1), (8, 1), (9, 1), (10, 1), (11, 1), (12, 1), (13, 1), (14, 1), (15, 1), (16, 1), (17, 1), (18, 1), (19, 1), (20, 1), (21, 1)]]\n"
     ]
    }
   ],
   "source": [
    "# Create Dictionary\n",
    "id2word = corpora.Dictionary(data_lemmatized)\n",
    "\n",
    "# Create Corpus\n",
    "texts = data_lemmatized\n",
    "\n",
    "# Term Document Frequency\n",
    "corpus = [id2word.doc2bow(text) for text in texts]\n",
    "\n",
    "# View\n",
    "print(corpus[:1])"
   ]
  },
  {
   "cell_type": "code",
   "execution_count": 48,
   "metadata": {
    "colab": {
     "base_uri": "https://localhost:8080/"
    },
    "id": "aKNnq7bNOhZ_",
    "outputId": "6a2527d0-53d0-4f4b-fec9-ed8f85e61374"
   },
   "outputs": [
    {
     "data": {
      "text/plain": [
       "[[('always', 1),\n",
       "  ('anger', 1),\n",
       "  ('bad', 1),\n",
       "  ('depression', 1),\n",
       "  ('easily', 1),\n",
       "  ('eat', 1),\n",
       "  ('esteem', 1),\n",
       "  ('excessive', 1),\n",
       "  ('feel', 1),\n",
       "  ('habit', 1),\n",
       "  ('irritated', 1),\n",
       "  ('lack', 1),\n",
       "  ('look', 1),\n",
       "  ('low', 1),\n",
       "  ('motivation', 1),\n",
       "  ('normally', 1),\n",
       "  ('sad', 1),\n",
       "  ('self', 1),\n",
       "  ('sleep', 1),\n",
       "  ('sometimes', 1),\n",
       "  ('strive', 1),\n",
       "  ('unexplainable', 1)]]"
      ]
     },
     "execution_count": 48,
     "metadata": {},
     "output_type": "execute_result"
    }
   ],
   "source": [
    "# Human readable format of corpus (term-frequency)\n",
    "[[(id2word[id], freq) for id, freq in cp] for cp in corpus[:1]]\n"
   ]
  },
  {
   "cell_type": "code",
   "execution_count": 49,
   "metadata": {
    "id": "3WvZs7uPOhdF"
   },
   "outputs": [],
   "source": [
    "# Build LDA model\n",
    "lda_model = gensim.models.ldamodel.LdaModel(corpus=corpus,\n",
    "                                           id2word=id2word,\n",
    "                                           num_topics=4, \n",
    "                                           random_state=100,\n",
    "                                           update_every=1,\n",
    "                                           chunksize=100,\n",
    "                                           passes=10,\n",
    "                                           alpha='auto',\n",
    "                                           per_word_topics=True)"
   ]
  },
  {
   "cell_type": "code",
   "execution_count": 50,
   "metadata": {
    "colab": {
     "base_uri": "https://localhost:8080/"
    },
    "id": "uv5C77OvN7fk",
    "outputId": "8d1ffd03-916e-4583-cad3-46da010b5ee3"
   },
   "outputs": [
    {
     "name": "stdout",
     "output_type": "stream",
     "text": [
      "[(0, '0.076*\"feel\" + 0.046*\"depression\" + 0.037*\"brain\" + 0.037*\"finally\" + 0.036*\"read\" + 0.035*\"bad\" + 0.035*\"beautiful\" + 0.034*\"world\" + 0.033*\"life\" + 0.033*\"everyday\"'), (1, '0.045*\"depression\" + 0.015*\"anxiety\" + 0.013*\"good\" + 0.012*\"help\" + 0.011*\"life\" + 0.010*\"make\" + 0.010*\"treat\" + 0.009*\"know\" + 0.009*\"may\" + 0.008*\"thing\"'), (2, '0.081*\"depression\" + 0.023*\"anxiety\" + 0.015*\"much\" + 0.013*\"help\" + 0.013*\"time\" + 0.012*\"work\" + 0.010*\"go\" + 0.010*\"think\" + 0.009*\"life\" + 0.008*\"drug\"'), (3, '0.063*\"depression\" + 0.023*\"take\" + 0.020*\"say\" + 0.018*\"cause\" + 0.018*\"save\" + 0.014*\"life\" + 0.012*\"suicide\" + 0.011*\"medical\" + 0.010*\"come\" + 0.010*\"tweet\"')]\n"
     ]
    }
   ],
   "source": [
    "# Print the Keyword in the 10 topics\n",
    "print(lda_model.print_topics())\n",
    "doc_lda = lda_model[corpus]"
   ]
  },
  {
   "cell_type": "code",
   "execution_count": 73,
   "metadata": {
    "colab": {
     "base_uri": "https://localhost:8080/",
     "height": 337
    },
    "id": "hv2mtydbcQbg",
    "outputId": "72459964-6d0d-457a-9372-692d093ecb63"
   },
   "outputs": [
    {
     "data": {
      "text/html": [
       "\n",
       "  <div id=\"df-6cfa30f9-04ed-4200-952b-210cae165814\">\n",
       "    <div class=\"colab-df-container\">\n",
       "      <div>\n",
       "<style scoped>\n",
       "    .dataframe tbody tr th:only-of-type {\n",
       "        vertical-align: middle;\n",
       "    }\n",
       "\n",
       "    .dataframe tbody tr th {\n",
       "        vertical-align: top;\n",
       "    }\n",
       "\n",
       "    .dataframe thead th {\n",
       "        text-align: right;\n",
       "    }\n",
       "</style>\n",
       "<table border=\"1\" class=\"dataframe\">\n",
       "  <thead>\n",
       "    <tr style=\"text-align: right;\">\n",
       "      <th></th>\n",
       "      <th>Document_No</th>\n",
       "      <th>Dominant_Topic</th>\n",
       "      <th>Topic_Perc_Contrib</th>\n",
       "      <th>Keywords</th>\n",
       "      <th>Text</th>\n",
       "    </tr>\n",
       "  </thead>\n",
       "  <tbody>\n",
       "    <tr>\n",
       "      <th>0</th>\n",
       "      <td>0</td>\n",
       "      <td>1.0</td>\n",
       "      <td>0.6824</td>\n",
       "      <td>depression, anxiety, good, help, life, make, t...</td>\n",
       "      <td>Depression isn’t always looking and feeling sa...</td>\n",
       "    </tr>\n",
       "    <tr>\n",
       "      <th>1</th>\n",
       "      <td>1</td>\n",
       "      <td>1.0</td>\n",
       "      <td>0.8778</td>\n",
       "      <td>depression, anxiety, good, help, life, make, t...</td>\n",
       "      <td>\"Hehehe now that's some power level I see!... ...</td>\n",
       "    </tr>\n",
       "    <tr>\n",
       "      <th>2</th>\n",
       "      <td>2</td>\n",
       "      <td>3.0</td>\n",
       "      <td>0.9018</td>\n",
       "      <td>depression, take, say, cause, save, life, suic...</td>\n",
       "      <td>How To Stimulate Your Vagus Nerve for Better M...</td>\n",
       "    </tr>\n",
       "    <tr>\n",
       "      <th>3</th>\n",
       "      <td>3</td>\n",
       "      <td>2.0</td>\n",
       "      <td>0.3969</td>\n",
       "      <td>depression, anxiety, much, help, time, work, g...</td>\n",
       "      <td>depression as a red flag lmao https//t.co/xc7E...</td>\n",
       "    </tr>\n",
       "    <tr>\n",
       "      <th>4</th>\n",
       "      <td>4</td>\n",
       "      <td>3.0</td>\n",
       "      <td>0.7549</td>\n",
       "      <td>depression, take, say, cause, save, life, suic...</td>\n",
       "      <td>☏ Houston County Board of Education says menta...</td>\n",
       "    </tr>\n",
       "  </tbody>\n",
       "</table>\n",
       "</div>\n",
       "      <button class=\"colab-df-convert\" onclick=\"convertToInteractive('df-6cfa30f9-04ed-4200-952b-210cae165814')\"\n",
       "              title=\"Convert this dataframe to an interactive table.\"\n",
       "              style=\"display:none;\">\n",
       "        \n",
       "  <svg xmlns=\"http://www.w3.org/2000/svg\" height=\"24px\"viewBox=\"0 0 24 24\"\n",
       "       width=\"24px\">\n",
       "    <path d=\"M0 0h24v24H0V0z\" fill=\"none\"/>\n",
       "    <path d=\"M18.56 5.44l.94 2.06.94-2.06 2.06-.94-2.06-.94-.94-2.06-.94 2.06-2.06.94zm-11 1L8.5 8.5l.94-2.06 2.06-.94-2.06-.94L8.5 2.5l-.94 2.06-2.06.94zm10 10l.94 2.06.94-2.06 2.06-.94-2.06-.94-.94-2.06-.94 2.06-2.06.94z\"/><path d=\"M17.41 7.96l-1.37-1.37c-.4-.4-.92-.59-1.43-.59-.52 0-1.04.2-1.43.59L10.3 9.45l-7.72 7.72c-.78.78-.78 2.05 0 2.83L4 21.41c.39.39.9.59 1.41.59.51 0 1.02-.2 1.41-.59l7.78-7.78 2.81-2.81c.8-.78.8-2.07 0-2.86zM5.41 20L4 18.59l7.72-7.72 1.47 1.35L5.41 20z\"/>\n",
       "  </svg>\n",
       "      </button>\n",
       "      \n",
       "  <style>\n",
       "    .colab-df-container {\n",
       "      display:flex;\n",
       "      flex-wrap:wrap;\n",
       "      gap: 12px;\n",
       "    }\n",
       "\n",
       "    .colab-df-convert {\n",
       "      background-color: #E8F0FE;\n",
       "      border: none;\n",
       "      border-radius: 50%;\n",
       "      cursor: pointer;\n",
       "      display: none;\n",
       "      fill: #1967D2;\n",
       "      height: 32px;\n",
       "      padding: 0 0 0 0;\n",
       "      width: 32px;\n",
       "    }\n",
       "\n",
       "    .colab-df-convert:hover {\n",
       "      background-color: #E2EBFA;\n",
       "      box-shadow: 0px 1px 2px rgba(60, 64, 67, 0.3), 0px 1px 3px 1px rgba(60, 64, 67, 0.15);\n",
       "      fill: #174EA6;\n",
       "    }\n",
       "\n",
       "    [theme=dark] .colab-df-convert {\n",
       "      background-color: #3B4455;\n",
       "      fill: #D2E3FC;\n",
       "    }\n",
       "\n",
       "    [theme=dark] .colab-df-convert:hover {\n",
       "      background-color: #434B5C;\n",
       "      box-shadow: 0px 1px 3px 1px rgba(0, 0, 0, 0.15);\n",
       "      filter: drop-shadow(0px 1px 2px rgba(0, 0, 0, 0.3));\n",
       "      fill: #FFFFFF;\n",
       "    }\n",
       "  </style>\n",
       "\n",
       "      <script>\n",
       "        const buttonEl =\n",
       "          document.querySelector('#df-6cfa30f9-04ed-4200-952b-210cae165814 button.colab-df-convert');\n",
       "        buttonEl.style.display =\n",
       "          google.colab.kernel.accessAllowed ? 'block' : 'none';\n",
       "\n",
       "        async function convertToInteractive(key) {\n",
       "          const element = document.querySelector('#df-6cfa30f9-04ed-4200-952b-210cae165814');\n",
       "          const dataTable =\n",
       "            await google.colab.kernel.invokeFunction('convertToInteractive',\n",
       "                                                     [key], {});\n",
       "          if (!dataTable) return;\n",
       "\n",
       "          const docLinkHtml = 'Like what you see? Visit the ' +\n",
       "            '<a target=\"_blank\" href=https://colab.research.google.com/notebooks/data_table.ipynb>data table notebook</a>'\n",
       "            + ' to learn more about interactive tables.';\n",
       "          element.innerHTML = '';\n",
       "          dataTable['output_type'] = 'display_data';\n",
       "          await google.colab.output.renderOutput(dataTable, element);\n",
       "          const docLink = document.createElement('div');\n",
       "          docLink.innerHTML = docLinkHtml;\n",
       "          element.appendChild(docLink);\n",
       "        }\n",
       "      </script>\n",
       "    </div>\n",
       "  </div>\n",
       "  "
      ],
      "text/plain": [
       "   Document_No  Dominant_Topic  Topic_Perc_Contrib  \\\n",
       "0            0             1.0              0.6824   \n",
       "1            1             1.0              0.8778   \n",
       "2            2             3.0              0.9018   \n",
       "3            3             2.0              0.3969   \n",
       "4            4             3.0              0.7549   \n",
       "\n",
       "                                            Keywords  \\\n",
       "0  depression, anxiety, good, help, life, make, t...   \n",
       "1  depression, anxiety, good, help, life, make, t...   \n",
       "2  depression, take, say, cause, save, life, suic...   \n",
       "3  depression, anxiety, much, help, time, work, g...   \n",
       "4  depression, take, say, cause, save, life, suic...   \n",
       "\n",
       "                                                Text  \n",
       "0  Depression isn’t always looking and feeling sa...  \n",
       "1  \"Hehehe now that's some power level I see!... ...  \n",
       "2  How To Stimulate Your Vagus Nerve for Better M...  \n",
       "3  depression as a red flag lmao https//t.co/xc7E...  \n",
       "4  ☏ Houston County Board of Education says menta...  "
      ]
     },
     "execution_count": 73,
     "metadata": {},
     "output_type": "execute_result"
    }
   ],
   "source": [
    "def format_topics_sentences(ldamodel=None, corpus=corpus, texts=data):\n",
    "    # Init output\n",
    "    sent_topics_df = pd.DataFrame()\n",
    "\n",
    "    # Get main topic in each document\n",
    "    for i, row_list in enumerate(ldamodel[corpus]):\n",
    "        row = row_list[0] if ldamodel.per_word_topics else row_list            \n",
    "        # print(row)\n",
    "        row = sorted(row, key=lambda x: (x[1]), reverse=True)\n",
    "        # Get the Dominant topic, Perc Contribution and Keywords for each document\n",
    "        for j, (topic_num, prop_topic) in enumerate(row):\n",
    "            if j == 0:  # => dominant topic\n",
    "                wp = ldamodel.show_topic(topic_num)\n",
    "                topic_keywords = \", \".join([word for word, prop in wp])\n",
    "                sent_topics_df = sent_topics_df.append(pd.Series([int(topic_num), round(prop_topic,4), topic_keywords]), ignore_index=True)\n",
    "            else:\n",
    "                break\n",
    "    sent_topics_df.columns = ['Dominant_Topic', 'Perc_Contribution', 'Topic_Keywords']\n",
    "\n",
    "    # Add original text to the end of the output\n",
    "    contents = pd.Series(texts)\n",
    "    sent_topics_df = pd.concat([sent_topics_df, contents], axis=1)\n",
    "    return(sent_topics_df)\n",
    "\n",
    "\n",
    "df_topic_sents_keywords = format_topics_sentences(ldamodel=lda_model, corpus=corpus, texts=data)\n",
    "\n",
    "# Format\n",
    "df_dominant_topic = df_topic_sents_keywords.reset_index()\n",
    "df_dominant_topic.columns = ['Document_No', 'Dominant_Topic', 'Topic_Perc_Contrib', 'Keywords', 'Text']\n",
    "df_dominant_topic.head(5)"
   ]
  },
  {
   "cell_type": "code",
   "execution_count": 53,
   "metadata": {
    "colab": {
     "base_uri": "https://localhost:8080/",
     "height": 625
    },
    "id": "-LTmld73cQe_",
    "outputId": "ad5f0b79-dd1f-486d-85a2-c2a8071f815e"
   },
   "outputs": [
    {
     "data": {
      "image/png": "[encoded data removed]",
      "text/plain": [
       "<Figure size 720x720 with 4 Axes>"
      ]
     },
     "metadata": {
      "needs_background": "light"
     },
     "output_type": "display_data"
    }
   ],
   "source": [
    "from matplotlib import pyplot as plt\n",
    "from wordcloud import WordCloud, STOPWORDS\n",
    "import matplotlib.colors as mcolors\n",
    "\n",
    "cols = [color for name, color in mcolors.TABLEAU_COLORS.items()]  # more colors: 'mcolors.XKCD_COLORS'\n",
    "\n",
    "cloud = WordCloud(stopwords=stop_words,\n",
    "                  background_color='white',\n",
    "                  width=2500,\n",
    "                  height=1800,\n",
    "                  max_words=10,\n",
    "                  colormap='tab10',\n",
    "                  color_func=lambda *args, **kwargs: cols[i],\n",
    "                  prefer_horizontal=1.0)\n",
    "\n",
    "topics = lda_model.show_topics(formatted=False)\n",
    "\n",
    "fig, axes = plt.subplots(2, 2, figsize=(10,10), sharex=True, sharey=True)\n",
    "\n",
    "for i, ax in enumerate(axes.flatten()):\n",
    "    fig.add_subplot(ax)\n",
    "    topic_words = dict(topics[i][1])\n",
    "    cloud.generate_from_frequencies(topic_words, max_font_size=300)\n",
    "    plt.gca().imshow(cloud)\n",
    "    plt.gca().set_title('Topic ' + str(i), fontdict=dict(size=16))\n",
    "    plt.gca().axis('off')\n",
    "\n",
    "plt.subplots_adjust(wspace=0, hspace=0)\n",
    "plt.axis('off')\n",
    "plt.margins(x=0, y=0)\n",
    "plt.tight_layout()\n",
    "plt.show()\n"
   ]
  },
  {
   "cell_type": "code",
   "execution_count": 54,
   "metadata": {
    "colab": {
     "base_uri": "https://localhost:8080/"
    },
    "id": "X3hRCGEgOxWj",
    "outputId": "8a565101-1de1-4a0f-a821-9c3e348c7a31"
   },
   "outputs": [
    {
     "name": "stdout",
     "output_type": "stream",
     "text": [
      "\n",
      "Perplexity:  -6.451488281460405\n",
      "\n",
      "Coherence Score:  0.3572522369815552\n"
     ]
    }
   ],
   "source": [
    "# Compute Perplexity\n",
    "print('\\nPerplexity: ', lda_model.log_perplexity(corpus))  # a measure of how good the model is. lower the better.\n",
    "\n",
    "# Compute Coherence Score\n",
    "coherence_model_lda = CoherenceModel(model=lda_model, texts=data_lemmatized, dictionary=id2word, coherence='c_v')\n",
    "coherence_lda = coherence_model_lda.get_coherence()\n",
    "print('\\nCoherence Score: ', coherence_lda)"
   ]
  },
  {
   "cell_type": "code",
   "execution_count": 55,
   "metadata": {
    "colab": {
     "base_uri": "https://localhost:8080/",
     "height": 916
    },
    "id": "g8jcwPBJOxac",
    "outputId": "a2f70db7-ec5f-42c2-b54e-4848445157ec"
   },
   "outputs": [
    {
     "name": "stderr",
     "output_type": "stream",
     "text": [
      "/usr/local/lib/python3.7/dist-packages/pyLDAvis/_prepare.py:247: FutureWarning: In a future version of pandas all arguments of DataFrame.drop except for the argument 'labels' will be keyword-only\n",
      "  by='saliency', ascending=False).head(R).drop('saliency', 1)\n"
     ]
    },
    {
     "data": {
      "text/html": [
       "\n",
       "<link rel=\"stylesheet\" type=\"text/css\" href=\"https://cdn.jsdelivr.net/gh/bmabey/pyLDAvis@3.3.1/pyLDAvis/js/ldavis.v1.0.0.css\">\n",
       "\n",
       "\n",
       "<div id=\"ldavis_el611399990111742245157535298\"></div>\n",
       "<script type=\"text/javascript\">\n",
       "\n",
       "var ldavis_el611399990111742245157535298_data = {\"mdsDat\": {\"x\": [-0.10076894829079389, -0.06428079888891211, -0.08026907154139964, 0.2453188187211056], \"y\": [0.13473344595694886, 0.04634709690856278, -0.18728780386801325, 0.006207261002501678], \"topics\": [1, 2, 3, 4], \"cluster\": [1, 1, 1, 1], \"Freq\": [37.00171061399317, 22.414327299579345, 21.668915778876784, 18.915046307550707]}, \"tinfo\": {\"Term\": [\"feel\", \"brain\", \"finally\", \"read\", \"beautiful\", \"world\", \"everyday\", \"bring\", \"switch_channel\", \"shroom_recently\", \"leave_house\", \"curious\", \"bad\", \"cause\", \"save\", \"say\", \"take\", \"anxiety\", \"life\", \"work\", \"help\", \"medical\", \"much\", \"suicide\", \"come\", \"tweet\", \"treat\", \"happy\", \"great\", \"may\", \"work\", \"drug\", \"many\", \"chastise\", \"live\", \"first\", \"well\", \"suffer\", \"find\", \"issue\", \"offer\", \"try\", \"way\", \"med\", \"lot\", \"experience\", \"problem\", \"positive\", \"back\", \"effect\", \"lead\", \"community\", \"improve\", \"severe\", \"friend_mine\", \"list\", \"illness\", \"motivation\", \"turn\", \"cure\", \"energy\", \"much\", \"think\", \"get\", \"hard\", \"anxiety\", \"depression\", \"time\", \"help\", \"go\", \"people\", \"reason\", \"year\", \"antidepressant\", \"suicide\", \"good\", \"life\", \"take\", \"would\", \"never\", \"feel\", \"may\", \"treat\", \"always\", \"learn\", \"could\", \"care\", \"need\", \"bipolardisorder_counselle\", \"win\", \"sleep\", \"level\", \"thank\", \"young\", \"disorder\", \"book\", \"literally\", \"rest\", \"pass\", \"healthy\", \"debt\", \"doctor\", \"eat\", \"include\", \"friend\", \"mid\", \"less\", \"wake\", \"homeless\", \"stuff\", \"able\", \"let\", \"listen\", \"know\", \"good\", \"thing\", \"depression\", \"help\", \"anxiety\", \"make\", \"life\", \"year\", \"bad\", \"take\", \"go\", \"see\", \"start\", \"never\", \"want\", \"cause\", \"save\", \"medical\", \"come\", \"tweet\", \"happy\", \"great\", \"bupropion_trend\", \"hate\", \"medication\", \"risk\", \"exam\", \"understand\", \"addiction\", \"groove_type\", \"break\", \"stress\", \"home\", \"reality\", \"wonder\", \"body\", \"easy\", \"part\", \"reply\", \"cost\", \"today\", \"buy\", \"person\", \"new\", \"rise\", \"especially\", \"market\", \"say\", \"take\", \"treatment\", \"depression\", \"suicide\", \"want\", \"life\", \"man\", \"increase\", \"make\", \"time\", \"good\", \"finally\", \"read\", \"brain\", \"beautiful\", \"world\", \"everyday\", \"bring\", \"curious\", \"leave_house\", \"shroom_recently\", \"switch_channel\", \"fight\", \"feature\", \"exclusive_app\", \"photo_jaybmindset\", \"thought\", \"put\", \"feel\", \"next\", \"deep\", \"era\", \"mention\", \"melt\", \"call\", \"instead\", \"honestly\", \"current\", \"butterfly\", \"blow\", \"crime\", \"bad\", \"life\", \"depression\", \"make\", \"die\", \"year\", \"end\"], \"Freq\": [92.0, 40.0, 39.0, 38.0, 37.0, 37.0, 35.0, 34.0, 33.0, 33.0, 33.0, 33.0, 48.0, 22.0, 22.0, 30.0, 51.0, 69.0, 84.0, 26.0, 41.0, 13.0, 35.0, 30.0, 13.0, 12.0, 12.0, 12.0, 12.0, 11.0, 25.508066494653466, 17.55316536822639, 17.52000578437595, 15.873787588379143, 14.097836464450038, 13.413357499869226, 12.491751023795194, 11.6456202977234, 12.212186368157607, 11.524608431319217, 11.033781358999077, 11.25183209280051, 9.927324381579554, 9.615617325053023, 9.477849522766443, 9.114824569617243, 9.201346094252752, 8.770629599054995, 8.577005773688601, 9.023633294468674, 9.420343359868024, 8.370364716322078, 9.091200955052843, 7.4767714202947175, 7.2668150820199084, 7.2668150820199084, 7.246676117553387, 7.078194422514084, 7.287966390328223, 7.1139240628386045, 7.519510041596557, 30.72741325317219, 20.111538271694016, 9.153377836288259, 12.384901325112788, 47.04009157775081, 169.34585342191488, 26.13704559536458, 26.58589911120787, 21.33375279934458, 16.457501563391663, 12.338794192585933, 14.561165722971838, 11.942920327071201, 14.815700515859435, 16.558377852713114, 18.65105323247646, 14.264390254199805, 10.226504892843804, 10.500199696282076, 11.163200711974644, 11.35885686101031, 12.138646351948731, 9.614302725581586, 9.320660019063705, 8.450189260018144, 7.936242558539117, 7.502983507001578, 7.2233738430985674, 7.295661366260899, 6.482010476496146, 6.184847197580943, 5.977601272395909, 6.054361476127628, 6.307829790717701, 5.639903629620849, 5.4053314963693415, 5.051293238463864, 5.035006560495903, 5.050189871727517, 4.665663632743282, 4.670355579603527, 4.571637967427062, 4.53036284699368, 4.5142579138122585, 4.279255162671354, 4.250134371406178, 4.166600656734833, 3.9266459464342307, 3.723061885561216, 3.7289747469955525, 7.747561570162343, 5.306763090799891, 11.889679445329788, 16.65321733581264, 10.486701151911475, 56.41270936689131, 14.537464130714573, 19.10898455030389, 13.087061000932536, 14.35579790482472, 9.096073882422287, 10.045162159663299, 9.184676224680818, 7.996924797670643, 6.859232333882007, 6.307985739470022, 6.373174663034223, 6.214081139632578, 22.350309496593468, 22.157517111560416, 13.324688161733365, 12.760699191721196, 12.303111150818774, 11.680374675857564, 11.683756063718155, 9.172911212080242, 7.942852879262164, 8.49870180695891, 7.893822755283595, 7.4043875498007825, 7.1450969928737385, 6.992407437117249, 6.585781660859966, 6.49006503321854, 6.478484091523023, 6.059308185966868, 5.419428992730192, 5.782363678472997, 5.5641241676999496, 5.405565642567595, 5.971615411483738, 4.8104612162767495, 4.953321736116649, 5.398848208956511, 4.849143137178103, 5.013635810969591, 4.9060996287782555, 4.343451084895872, 4.975646490799991, 10.625514289025215, 24.381874075081488, 28.14313586697168, 8.991229911126814, 76.12126848072509, 14.918673038952653, 8.852122017673935, 16.828048565594653, 6.948137101146264, 7.490556829384605, 8.31791544590355, 8.095800885046215, 8.025503611102348, 39.1168099772254, 38.247518156390946, 39.60748286183945, 36.73639084993753, 36.6211309498573, 34.62607117326176, 34.31240640139754, 33.255823674625915, 33.255823674625915, 33.255823674625915, 33.255823674625915, 9.212703904848308, 8.35956058139812, 7.106370888464273, 7.106370888464273, 7.106370888464273, 5.573403036146011, 80.57523123447083, 6.158750939386018, 3.876763929043228, 3.581309259606181, 3.7143169223217387, 3.2262844951384446, 3.059205185077222, 3.155732778717132, 2.736415077428564, 2.6591414994964855, 2.567020605188735, 3.1114436446073754, 2.126740284156901, 36.89132539163048, 34.78428686797715, 48.58011837585585, 11.373101734258023, 3.6960734245645006, 3.478992647342088, 3.201626372907072], \"Total\": [92.0, 40.0, 39.0, 38.0, 37.0, 37.0, 35.0, 34.0, 33.0, 33.0, 33.0, 33.0, 48.0, 22.0, 22.0, 30.0, 51.0, 69.0, 84.0, 26.0, 41.0, 13.0, 35.0, 30.0, 13.0, 12.0, 12.0, 12.0, 12.0, 11.0, 26.243929783111824, 18.160566669981755, 18.15224611615186, 16.471330510087768, 14.715997290316238, 14.02056105590658, 13.096958930034786, 12.25115987393681, 12.84892437827941, 12.135037612279058, 11.63592850994198, 11.873372481110485, 10.533625470441944, 10.224671917134925, 10.085517407552937, 9.72447469662656, 9.830035254879352, 9.370491817409716, 9.186768527570232, 9.668112840076569, 10.107881167972575, 8.983841637510874, 9.774842322693395, 8.085264328497356, 7.864357814619644, 7.864357814619644, 7.846242335676569, 7.680173031294153, 7.91680959774862, 7.740574395106081, 8.189412992990594, 35.685274843468385, 22.87446164933222, 10.093280507495855, 14.256237274672763, 69.12079190918406, 350.45994964538716, 37.878648752433804, 41.52101652816142, 32.09450213016274, 24.047135355759266, 16.464175552636025, 27.340836611685145, 17.93498246417661, 30.132004469275444, 41.43057517004761, 84.61918657087298, 51.780560510879575, 13.723771300987147, 17.307009496864616, 92.33290221131887, 11.97886900109845, 12.846179382194382, 10.221620090470449, 9.938368384236501, 9.063671509127232, 8.547885888600225, 8.12716878036119, 7.826455932000858, 7.971424870345678, 7.090118891916478, 6.805771949985043, 6.584743042451621, 6.678362770816833, 6.959826310957054, 6.265243847443265, 6.033901024593297, 5.657499461398345, 5.639317194930322, 5.6573419473623465, 5.2714908468903845, 5.278866783690505, 5.185110064160065, 5.150546779214817, 5.151030364182142, 4.8847708746906395, 4.86695624017614, 4.790352034201051, 4.5417837010835465, 4.327570178532183, 4.360135170382083, 9.766794871551518, 6.848710261670151, 21.926083397205435, 41.43057517004761, 21.179909486335255, 350.45994964538716, 41.52101652816142, 69.12079190918406, 37.96358545944417, 84.61918657087298, 27.340836611685145, 48.55372371899033, 51.780560510879575, 32.09450213016274, 18.84750131055509, 14.986613823508875, 17.307009496864616, 15.49409735426208, 22.966806552167892, 22.788752903783994, 13.930944162499298, 13.379627519261028, 12.915144957796231, 12.310750842218441, 12.320381615244193, 9.778467411300669, 8.556207675662318, 9.185399452475167, 8.534436869328546, 8.012190442083412, 7.759833508781949, 7.598669322664814, 7.191340343328038, 7.115425753846036, 7.115852210641684, 6.666320128494094, 6.038320488764756, 6.446492060528732, 6.2084300129738645, 6.0394970483903405, 6.7195174122982415, 5.419300486080663, 5.582474907697411, 6.108345374166954, 5.489215519575616, 5.683309544361797, 5.581586194659688, 4.954632522013443, 5.697970705285043, 12.612228454741228, 30.56772408511656, 51.780560510879575, 13.476365185376403, 350.45994964538716, 30.132004469275444, 15.49409735426208, 84.61918657087298, 11.013725247229132, 15.590184894739663, 37.96358545944417, 37.878648752433804, 41.43057517004761, 39.75120961399709, 38.88089576690916, 40.26973466987724, 37.36067715611047, 37.25315753027506, 35.24820129900892, 34.93775745523834, 33.877864548859066, 33.877864548859066, 33.877864548859066, 33.877864548859066, 9.872873858041586, 8.982755264517698, 7.7284155745283005, 7.7284155745283005, 7.7284155745283005, 6.255157798392167, 92.33290221131887, 7.2179636603717725, 4.545478469760323, 4.232064253388955, 4.434079241449073, 3.874006425126165, 3.6944694218887593, 3.811443446778125, 3.3657109959530684, 3.3044943806915468, 3.193127802726776, 3.8851926491260413, 2.7487876150491153, 48.55372371899033, 84.61918657087298, 350.45994964538716, 37.96358545944417, 8.252859661146521, 27.340836611685145, 8.59019246083578], \"Category\": [\"Default\", \"Default\", \"Default\", \"Default\", \"Default\", \"Default\", \"Default\", \"Default\", \"Default\", \"Default\", \"Default\", \"Default\", \"Default\", \"Default\", \"Default\", \"Default\", \"Default\", \"Default\", \"Default\", \"Default\", \"Default\", \"Default\", \"Default\", \"Default\", \"Default\", \"Default\", \"Default\", \"Default\", \"Default\", \"Default\", \"Topic1\", \"Topic1\", \"Topic1\", \"Topic1\", \"Topic1\", \"Topic1\", \"Topic1\", \"Topic1\", \"Topic1\", \"Topic1\", \"Topic1\", \"Topic1\", \"Topic1\", \"Topic1\", \"Topic1\", \"Topic1\", \"Topic1\", \"Topic1\", \"Topic1\", \"Topic1\", \"Topic1\", \"Topic1\", \"Topic1\", \"Topic1\", \"Topic1\", \"Topic1\", \"Topic1\", \"Topic1\", \"Topic1\", \"Topic1\", \"Topic1\", \"Topic1\", \"Topic1\", \"Topic1\", \"Topic1\", \"Topic1\", \"Topic1\", \"Topic1\", \"Topic1\", \"Topic1\", \"Topic1\", \"Topic1\", \"Topic1\", \"Topic1\", \"Topic1\", \"Topic1\", \"Topic1\", \"Topic1\", \"Topic1\", \"Topic1\", \"Topic1\", \"Topic2\", \"Topic2\", \"Topic2\", \"Topic2\", \"Topic2\", \"Topic2\", \"Topic2\", \"Topic2\", \"Topic2\", \"Topic2\", \"Topic2\", \"Topic2\", \"Topic2\", \"Topic2\", \"Topic2\", \"Topic2\", \"Topic2\", \"Topic2\", \"Topic2\", \"Topic2\", \"Topic2\", \"Topic2\", \"Topic2\", \"Topic2\", \"Topic2\", \"Topic2\", \"Topic2\", \"Topic2\", \"Topic2\", \"Topic2\", \"Topic2\", \"Topic2\", \"Topic2\", \"Topic2\", \"Topic2\", \"Topic2\", \"Topic2\", \"Topic2\", \"Topic2\", \"Topic2\", \"Topic2\", \"Topic2\", \"Topic2\", \"Topic2\", \"Topic2\", \"Topic2\", \"Topic2\", \"Topic2\", \"Topic3\", \"Topic3\", \"Topic3\", \"Topic3\", \"Topic3\", \"Topic3\", \"Topic3\", \"Topic3\", \"Topic3\", \"Topic3\", \"Topic3\", \"Topic3\", \"Topic3\", \"Topic3\", \"Topic3\", \"Topic3\", \"Topic3\", \"Topic3\", \"Topic3\", \"Topic3\", \"Topic3\", \"Topic3\", \"Topic3\", \"Topic3\", \"Topic3\", \"Topic3\", \"Topic3\", \"Topic3\", \"Topic3\", \"Topic3\", \"Topic3\", \"Topic3\", \"Topic3\", \"Topic3\", \"Topic3\", \"Topic3\", \"Topic3\", \"Topic3\", \"Topic3\", \"Topic3\", \"Topic3\", \"Topic3\", \"Topic3\", \"Topic3\", \"Topic4\", \"Topic4\", \"Topic4\", \"Topic4\", \"Topic4\", \"Topic4\", \"Topic4\", \"Topic4\", \"Topic4\", \"Topic4\", \"Topic4\", \"Topic4\", \"Topic4\", \"Topic4\", \"Topic4\", \"Topic4\", \"Topic4\", \"Topic4\", \"Topic4\", \"Topic4\", \"Topic4\", \"Topic4\", \"Topic4\", \"Topic4\", \"Topic4\", \"Topic4\", \"Topic4\", \"Topic4\", \"Topic4\", \"Topic4\", \"Topic4\", \"Topic4\", \"Topic4\", \"Topic4\", \"Topic4\", \"Topic4\", \"Topic4\"], \"logprob\": [30.0, 29.0, 28.0, 27.0, 26.0, 25.0, 24.0, 23.0, 22.0, 21.0, 20.0, 19.0, 18.0, 17.0, 16.0, 15.0, 14.0, 13.0, 12.0, 11.0, 10.0, 9.0, 8.0, 7.0, 6.0, 5.0, 4.0, 3.0, 2.0, 1.0, -4.4004, -4.7741, -4.776, -4.8747, -4.9933, -5.0431, -5.1143, -5.1844, -5.1369, -5.1949, -5.2384, -5.2188, -5.3441, -5.376, -5.3904, -5.4294, -5.42, -5.4679, -5.4903, -5.4395, -5.3965, -5.5146, -5.432, -5.6275, -5.656, -5.656, -5.6588, -5.6823, -5.6531, -5.6773, -5.6218, -4.2142, -4.6381, -5.4252, -5.1229, -3.7883, -2.5074, -4.376, -4.359, -4.5791, -4.8386, -5.1266, -4.961, -5.1592, -4.9437, -4.8325, -4.7134, -4.9816, -5.3144, -5.288, -5.2267, -4.7081, -4.6417, -4.8748, -4.9058, -5.0039, -5.0666, -5.1228, -5.1608, -5.1508, -5.2691, -5.316, -5.3501, -5.3373, -5.2963, -5.4082, -5.4507, -5.5184, -5.5217, -5.5187, -5.5979, -5.5968, -5.6182, -5.6273, -5.6308, -5.6843, -5.6911, -5.711, -5.7703, -5.8235, -5.8219, -5.0907, -5.4691, -4.6624, -4.3255, -4.788, -3.1054, -4.4614, -4.1879, -4.5665, -4.4739, -4.9302, -4.831, -4.9205, -5.059, -5.2125, -5.2963, -5.286, -5.3113, -3.9974, -4.0061, -4.5146, -4.5579, -4.5944, -4.6464, -4.6461, -4.888, -5.032, -4.9643, -5.0382, -5.1022, -5.1378, -5.1594, -5.2193, -5.234, -5.2358, -5.3027, -5.4143, -5.3494, -5.3879, -5.4168, -5.3172, -5.5335, -5.5042, -5.4181, -5.5255, -5.4921, -5.5138, -5.6356, -5.4997, -4.741, -3.9104, -3.767, -4.908, -2.7719, -4.4016, -4.9236, -4.2812, -5.1658, -5.0906, -4.9858, -5.0129, -5.0216, -3.3018, -3.3243, -3.2893, -3.3646, -3.3677, -3.4237, -3.4328, -3.4641, -3.4641, -3.4641, -3.4641, -4.7478, -4.8449, -5.0073, -5.0073, -5.0073, -5.2503, -2.5791, -5.1505, -5.6133, -5.6926, -5.6561, -5.797, -5.8502, -5.8191, -5.9617, -5.9903, -6.0256, -5.8333, -6.2138, -3.3604, -3.4192, -3.0851, -4.5371, -5.6611, -5.7216, -5.8047], \"loglift\": [30.0, 29.0, 28.0, 27.0, 26.0, 25.0, 24.0, 23.0, 22.0, 21.0, 20.0, 19.0, 18.0, 17.0, 16.0, 15.0, 14.0, 13.0, 12.0, 11.0, 10.0, 9.0, 8.0, 7.0, 6.0, 5.0, 4.0, 3.0, 2.0, 1.0, 0.9658, 0.9602, 0.9588, 0.9573, 0.9513, 0.9499, 0.9469, 0.9435, 0.9434, 0.9426, 0.9411, 0.9404, 0.9349, 0.9328, 0.9321, 0.9295, 0.9281, 0.928, 0.9255, 0.9252, 0.9238, 0.9235, 0.9217, 0.916, 0.9152, 0.9152, 0.9147, 0.9126, 0.9114, 0.9098, 0.9089, 0.8446, 0.8655, 0.8965, 0.8535, 0.6094, 0.2669, 0.6232, 0.5484, 0.5858, 0.615, 0.7058, 0.3642, 0.5876, 0.2843, 0.0771, -0.5181, -0.295, 0.7001, 0.4945, -1.1186, 1.4423, 1.4388, 1.4342, 1.4313, 1.4254, 1.4212, 1.4156, 1.4153, 1.4069, 1.4058, 1.3998, 1.3987, 1.3974, 1.3971, 1.3903, 1.3855, 1.3821, 1.3821, 1.3819, 1.3734, 1.373, 1.3696, 1.3672, 1.3635, 1.3631, 1.36, 1.356, 1.3499, 1.345, 1.3391, 1.2639, 1.2404, 0.8835, 0.5841, 0.7925, -0.3311, 0.446, 0.2098, 0.4305, -0.2785, 0.3949, -0.0801, -0.234, 0.1058, 0.4847, 0.6301, 0.4965, 0.5818, 1.5021, 1.5012, 1.4848, 1.4819, 1.4807, 1.4767, 1.4762, 1.4654, 1.4549, 1.4516, 1.4513, 1.4504, 1.4468, 1.4461, 1.4413, 1.4373, 1.4355, 1.4338, 1.4212, 1.4206, 1.4197, 1.4184, 1.4113, 1.4101, 1.4097, 1.4058, 1.4053, 1.4039, 1.4003, 1.3976, 1.3937, 1.3579, 1.3032, 0.9196, 1.1246, 0.0024, 0.8263, 0.9695, -0.0858, 1.0686, 0.7963, 0.0111, -0.0138, -0.1121, 1.6491, 1.6488, 1.6486, 1.6484, 1.6481, 1.6474, 1.6472, 1.6467, 1.6467, 1.6467, 1.6467, 1.596, 1.5933, 1.5813, 1.5813, 1.5813, 1.5498, 1.529, 1.5065, 1.5061, 1.4983, 1.4881, 1.4823, 1.4765, 1.4764, 1.4582, 1.4479, 1.447, 1.4431, 1.4086, 1.3905, 0.7762, -0.3108, 0.4598, 0.8619, -0.3964, 0.6783]}, \"token.table\": {\"Topic\": [2, 3, 2, 1, 3, 1, 2, 3, 1, 2, 3, 4, 4, 2, 4, 3, 2, 4, 3, 4, 3, 4, 3, 4, 2, 3, 1, 3, 1, 3, 2, 4, 1, 4, 4, 2, 4, 1, 2, 3, 4, 2, 4, 2, 2, 1, 3, 2, 1, 1, 4, 1, 4, 3, 4, 3, 4, 1, 4, 1, 4, 4, 4, 1, 1, 2, 1, 1, 4, 1, 2, 3, 1, 2, 3, 3, 3, 3, 1, 2, 3, 2, 1, 2, 3, 2, 4, 1, 1, 2, 1, 3, 4, 1, 1, 2, 1, 2, 4, 2, 2, 3, 2, 1, 2, 3, 4, 1, 1, 2, 2, 1, 1, 1, 2, 3, 4, 2, 3, 1, 1, 3, 2, 1, 3, 3, 4, 4, 2, 1, 1, 2, 2, 1, 2, 3, 3, 4, 1, 3, 2, 1, 2, 3, 3, 4, 1, 1, 4, 4, 3, 1, 2, 3, 2, 3, 3, 3, 2, 3, 1, 2, 4, 1, 4, 2, 1, 2, 3, 2, 1, 1, 3, 4, 1, 2, 3, 2, 1, 2, 3, 1, 4, 4, 1, 2, 3, 3, 2, 1, 3, 1, 1, 3, 3, 2, 2, 3, 1, 1, 2, 3, 1, 4, 1, 2, 1, 2, 4, 2], \"Freq\": [0.9174027509907395, 0.9212139261174135, 0.9783184966268641, 0.6690834531881388, 0.3345417265940694, 0.6799690614330928, 0.2748811099410375, 0.04340228051700592, 0.979669834174038, 0.20595742682633425, 0.020595742682633426, 0.7620424792574367, 0.9903460755113354, 0.894402276179485, 0.7721624822580775, 0.9664279032640611, 0.9576642419829348, 0.9933018016610126, 0.8432383679580768, 0.9731591972827741, 0.9203896297285791, 0.939517672120153, 0.9108769699730357, 0.8120245852424138, 0.9359039304290543, 0.9579041801056737, 0.9713847943370996, 0.9716264508324671, 0.8904876469100957, 0.8956600938959414, 0.8826445212565237, 0.7275934994214764, 0.9043256537170803, 0.9740873706017391, 0.9078544716339255, 0.948498279751252, 0.8799953682787798, 0.48222343286587416, 0.15979001325733108, 0.21685787513494933, 0.1398162616001647, 0.4846804821886797, 0.4846804821886797, 0.8620904792629707, 0.9471729833092043, 0.9911584989114265, 0.8278835075070714, 0.9642996846991616, 0.9308952169748075, 0.5820591357872239, 0.3492354814723343, 0.976870992688644, 0.9451652339155477, 0.8775053889558166, 0.9929584690888639, 0.873668699040532, 0.9057483946736704, 0.9254998630540031, 0.8905953423445002, 0.11913413026728771, 0.8772604137863914, 0.9115886751322545, 0.9811022200005562, 0.9339303156212452, 0.927209684987846, 0.9706795818498108, 0.8900917487486614, 0.8916823418625964, 0.09907581576251072, 0.6543176745609643, 0.24926387602322453, 0.0934739535087092, 0.41032498173692294, 0.41032498173692294, 0.19309410905266963, 0.9739958042494576, 0.9733929512172846, 0.9747577669143661, 0.84173683201239, 0.07014473600103249, 0.9349936681358938, 0.8838072802601542, 0.6502730967987594, 0.3612628315548663, 0.90004678508522, 0.8807112498654898, 0.8913421275941994, 0.8921468010452931, 0.9207309645400099, 0.9707707189802929, 0.5131433689859128, 0.4490004478626738, 0.7871033748476444, 0.9888720895152053, 0.4560778055452685, 0.5472933666543222, 0.8903943220580232, 0.9055812435243524, 0.9740873706017391, 0.8218689058636853, 0.8191018758162112, 0.2047754689540528, 0.881604620914926, 0.22453536567722154, 0.16544711155163694, 0.2009000640269877, 0.41361777887909235, 0.8900917487486614, 0.14601289320073185, 0.7300644660036593, 0.8286513119159118, 0.9513456494866716, 0.8923686942684761, 0.13170515744202854, 0.34243340934927424, 0.21072825190724567, 0.2897513463724628, 0.36318320188769304, 0.6355706033034628, 0.9916128221721061, 0.15857625852377846, 0.8721694218807816, 0.9182836876328901, 0.978026491318669, 0.933174366960331, 0.8709474249205634, 0.7743921074943232, 0.9021038601675476, 0.8188715709727791, 0.9114377985336172, 0.8687056534097019, 0.14011381506608095, 0.9843526345031144, 0.63558063003275, 0.3466803436542273, 0.895802702963517, 0.13854323006504213, 0.8312593803902527, 0.9453478500320254, 0.8929212667889868, 0.8866321625772248, 0.6653599176489026, 0.24950996911833848, 0.04158499485305641, 0.8797690783815069, 0.9057483946736704, 0.9604618599931576, 0.9155613145469295, 0.9592084154203506, 0.977343737855472, 0.8280448196320956, 0.7288552021105436, 0.24295173403684786, 0.9226283009850395, 0.8837826736202935, 0.8073252622122814, 0.9373787775911461, 0.9653885007611354, 0.1962854670924422, 0.7851418683697688, 0.5305743098370149, 0.37140201688591046, 0.10611486196740298, 0.8657725604996946, 0.9740873706017391, 0.8462481506256073, 0.5338097114006324, 0.40035728355047423, 0.8431878322356192, 0.9243062122580556, 0.9794990942473023, 0.49780956375786345, 0.49780956375786345, 0.9740873706017391, 0.2703717352974283, 0.17381040126263247, 0.5407434705948566, 0.9111972876265935, 0.28328732962107556, 0.4721455493684592, 0.2360727746842296, 0.8743375169480269, 0.08743375169480269, 0.9057483946736704, 0.686402521112357, 0.07920029089757966, 0.2112007757268791, 0.8185522745890725, 0.9341298796304184, 0.29681593997916567, 0.6678358649531226, 0.9264427623659626, 0.8841945626670948, 0.9291417199894606, 0.9020812098710582, 0.8350117009025061, 0.3872442429406534, 0.5808663644109802, 0.9493407590824895, 0.9162432335708736, 0.8781366084300117, 0.930738755847919, 0.9907052874654163, 0.9932044007257821, 0.7286626817572152, 0.21859880452716454, 0.5486298833148793, 0.3291779299889276, 0.10972597666297586, 0.8984237912649566], \"Term\": [\"able\", \"addiction\", \"always\", \"antidepressant\", \"antidepressant\", \"anxiety\", \"anxiety\", \"anxiety\", \"back\", \"bad\", \"bad\", \"bad\", \"beautiful\", \"bipolardisorder_counselle\", \"blow\", \"body\", \"book\", \"brain\", \"break\", \"bring\", \"bupropion_trend\", \"butterfly\", \"buy\", \"call\", \"care\", \"cause\", \"chastise\", \"come\", \"community\", \"cost\", \"could\", \"crime\", \"cure\", \"curious\", \"current\", \"debt\", \"deep\", \"depression\", \"depression\", \"depression\", \"depression\", \"die\", \"die\", \"disorder\", \"doctor\", \"drug\", \"easy\", \"eat\", \"effect\", \"end\", \"end\", \"energy\", \"era\", \"especially\", \"everyday\", \"exam\", \"exclusive_app\", \"experience\", \"feature\", \"feel\", \"feel\", \"fight\", \"finally\", \"find\", \"first\", \"friend\", \"friend_mine\", \"get\", \"get\", \"go\", \"go\", \"go\", \"good\", \"good\", \"good\", \"great\", \"groove_type\", \"happy\", \"hard\", \"hard\", \"hate\", \"healthy\", \"help\", \"help\", \"home\", \"homeless\", \"honestly\", \"illness\", \"improve\", \"include\", \"increase\", \"increase\", \"instead\", \"issue\", \"know\", \"know\", \"lead\", \"learn\", \"leave_house\", \"less\", \"let\", \"let\", \"level\", \"life\", \"life\", \"life\", \"life\", \"list\", \"listen\", \"listen\", \"literally\", \"live\", \"lot\", \"make\", \"make\", \"make\", \"make\", \"man\", \"man\", \"many\", \"market\", \"market\", \"may\", \"med\", \"medical\", \"medication\", \"melt\", \"mention\", \"mid\", \"motivation\", \"much\", \"much\", \"need\", \"never\", \"never\", \"new\", \"next\", \"next\", \"offer\", \"part\", \"pass\", \"people\", \"people\", \"people\", \"person\", \"photo_jaybmindset\", \"positive\", \"problem\", \"put\", \"read\", \"reality\", \"reason\", \"reason\", \"reply\", \"rest\", \"rise\", \"risk\", \"save\", \"say\", \"say\", \"see\", \"see\", \"see\", \"severe\", \"shroom_recently\", \"sleep\", \"start\", \"start\", \"stress\", \"stuff\", \"suffer\", \"suicide\", \"suicide\", \"switch_channel\", \"take\", \"take\", \"take\", \"thank\", \"thing\", \"thing\", \"thing\", \"think\", \"think\", \"thought\", \"time\", \"time\", \"time\", \"today\", \"treat\", \"treatment\", \"treatment\", \"try\", \"turn\", \"tweet\", \"understand\", \"wake\", \"want\", \"want\", \"way\", \"well\", \"win\", \"wonder\", \"work\", \"world\", \"would\", \"would\", \"year\", \"year\", \"year\", \"young\"]}, \"R\": 30, \"lambda.step\": 0.01, \"plot.opts\": {\"xlab\": \"PC1\", \"ylab\": \"PC2\"}, \"topic.order\": [3, 2, 4, 1]};\n",
       "\n",
       "function LDAvis_load_lib(url, callback){\n",
       "  var s = document.createElement('script');\n",
       "  s.src = url;\n",
       "  s.async = true;\n",
       "  s.onreadystatechange = s.onload = callback;\n",
       "  s.onerror = function(){console.warn(\"failed to load library \" + url);};\n",
       "  document.getElementsByTagName(\"head\")[0].appendChild(s);\n",
       "}\n",
       "\n",
       "if(typeof(LDAvis) !== \"undefined\"){\n",
       "   // already loaded: just create the visualization\n",
       "   !function(LDAvis){\n",
       "       new LDAvis(\"#\" + \"ldavis_el611399990111742245157535298\", ldavis_el611399990111742245157535298_data);\n",
       "   }(LDAvis);\n",
       "}else if(typeof define === \"function\" && define.amd){\n",
       "   // require.js is available: use it to load d3/LDAvis\n",
       "   require.config({paths: {d3: \"https://d3js.org/d3.v5\"}});\n",
       "   require([\"d3\"], function(d3){\n",
       "      window.d3 = d3;\n",
       "      LDAvis_load_lib(\"https://cdn.jsdelivr.net/gh/bmabey/pyLDAvis@3.3.1/pyLDAvis/js/ldavis.v3.0.0.js\", function(){\n",
       "        new LDAvis(\"#\" + \"ldavis_el611399990111742245157535298\", ldavis_el611399990111742245157535298_data);\n",
       "      });\n",
       "    });\n",
       "}else{\n",
       "    // require.js not available: dynamically load d3 & LDAvis\n",
       "    LDAvis_load_lib(\"https://d3js.org/d3.v5.js\", function(){\n",
       "         LDAvis_load_lib(\"https://cdn.jsdelivr.net/gh/bmabey/pyLDAvis@3.3.1/pyLDAvis/js/ldavis.v3.0.0.js\", function(){\n",
       "                 new LDAvis(\"#\" + \"ldavis_el611399990111742245157535298\", ldavis_el611399990111742245157535298_data);\n",
       "            })\n",
       "         });\n",
       "}\n",
       "</script>"
      ],
      "text/plain": [
       "PreparedData(topic_coordinates=              x         y  topics  cluster       Freq\n",
       "topic                                                \n",
       "2     -0.100769  0.134733       1        1  37.001711\n",
       "1     -0.064281  0.046347       2        1  22.414327\n",
       "3     -0.080269 -0.187288       3        1  21.668916\n",
       "0      0.245319  0.006207       4        1  18.915046, topic_info=           Term       Freq       Total Category  logprob  loglift\n",
       "8          feel  92.000000   92.000000  Default  30.0000  30.0000\n",
       "40        brain  40.000000   40.000000  Default  29.0000  29.0000\n",
       "81      finally  39.000000   39.000000  Default  28.0000  28.0000\n",
       "84         read  38.000000   38.000000  Default  27.0000  27.0000\n",
       "77    beautiful  37.000000   37.000000  Default  26.0000  26.0000\n",
       "..          ...        ...         ...      ...      ...      ...\n",
       "3    depression  48.580118  350.459950   Topic4  -3.0851  -0.3108\n",
       "250        make  11.373102   37.963585   Topic4  -4.5371   0.4598\n",
       "341         die   3.696073    8.252860   Topic4  -5.6611   0.8619\n",
       "162        year   3.478993   27.340837   Topic4  -5.7216  -0.3964\n",
       "152         end   3.201626    8.590192   Topic4  -5.8047   0.6783\n",
       "\n",
       "[210 rows x 6 columns], token_table=      Topic      Freq            Term\n",
       "term                                 \n",
       "936       2  0.917403            able\n",
       "206       3  0.921214       addiction\n",
       "0         2  0.978318          always\n",
       "128       1  0.669083  antidepressant\n",
       "128       3  0.334542  antidepressant\n",
       "...     ...       ...             ...\n",
       "173       2  0.218599           would\n",
       "162       1  0.548630            year\n",
       "162       2  0.329178            year\n",
       "162       4  0.109726            year\n",
       "413       2  0.898424           young\n",
       "\n",
       "[210 rows x 3 columns], R=30, lambda_step=0.01, plot_opts={'xlab': 'PC1', 'ylab': 'PC2'}, topic_order=[3, 2, 4, 1])"
      ]
     },
     "execution_count": 55,
     "metadata": {},
     "output_type": "execute_result"
    }
   ],
   "source": [
    "# Visualize the topics\n",
    "pyLDAvis.enable_notebook()\n",
    "vis = pyLDAvis.gensim_models.prepare(lda_model, corpus, id2word)\n",
    "vis"
   ]
  }
 ],
 "metadata": {
  "colab": {
   "name": "SMMpaper3code_final.ipynb",
   "provenance": []
  },
  "kernelspec": {
   "display_name": "Python 3",
   "language": "python",
   "name": "python3"
  },
  "language_info": {
   "codemirror_mode": {
    "name": "ipython",
    "version": 3
   },
   "file_extension": ".py",
   "mimetype": "text/x-python",
   "name": "python",
   "nbconvert_exporter": "python",
   "pygments_lexer": "ipython3",
   "version": "3.8.8"
  }
 },
 "nbformat": 4,
 "nbformat_minor": 1
}
